{
 "cells": [
  {
   "cell_type": "markdown",
   "metadata": {},
   "source": [
    "<font size=+3 color=\"black\"><center><b>Question 1 - Identify the Top Complaint Type</b></center></font>\n",
    "\n",
    "The goal of this notebook is to find the answer to the first question of the problem statement:\n",
    "\n",
    "<font color=\"royalblue\"><center><em>Which type of complaint should the Department of Housing Preservation and Development of New York City focus on first?</em></center></font>\n",
    "\n",
    "For this purpose, we need to read back the 311 Dataset and explore it. By the end of this exercise, we need to figure out the correct Complaint Type that the Department of Housing Preservation and Development of New York City should focus on first.\n",
    "\n",
    "<br>\n",
    "\n",
    "# Introduction\n",
    "\n",
    "We start by importing the necessary libraries and loading the 311 Dataset onto a DataFrame.\n",
    "\n",
    "## Libraries"
   ]
  },
  {
   "cell_type": "code",
   "execution_count": 1,
   "metadata": {
    "ExecuteTime": {
     "end_time": "2021-01-30T10:58:02.717989Z",
     "start_time": "2021-01-30T10:57:59.404847Z"
    }
   },
   "outputs": [
    {
     "name": "stderr",
     "output_type": "stream",
     "text": [
      "C:\\Users\\ko40\\AppData\\Local\\Continuum\\anaconda3\\lib\\site-packages\\statsmodels\\tools\\_testing.py:19: FutureWarning: pandas.util.testing is deprecated. Use the functions in the public API at pandas.testing instead.\n",
      "  import pandas.util.testing as tm\n"
     ]
    }
   ],
   "source": [
    "import numpy as np\n",
    "import pandas as pd\n",
    "\n",
    "import seaborn as sns\n",
    "import matplotlib.pyplot as plt\n",
    "%config InlineBackend.figure_format = 'retina'"
   ]
  },
  {
   "cell_type": "markdown",
   "metadata": {},
   "source": [
    "## Data"
   ]
  },
  {
   "cell_type": "code",
   "execution_count": 2,
   "metadata": {
    "ExecuteTime": {
     "end_time": "2021-01-30T11:13:04.778823Z",
     "start_time": "2021-01-30T10:58:02.721973Z"
    }
   },
   "outputs": [
    {
     "data": {
      "text/html": [
       "<div>\n",
       "<style scoped>\n",
       "    .dataframe tbody tr th:only-of-type {\n",
       "        vertical-align: middle;\n",
       "    }\n",
       "\n",
       "    .dataframe tbody tr th {\n",
       "        vertical-align: top;\n",
       "    }\n",
       "\n",
       "    .dataframe thead th {\n",
       "        text-align: right;\n",
       "    }\n",
       "</style>\n",
       "<table border=\"1\" class=\"dataframe\">\n",
       "  <thead>\n",
       "    <tr style=\"text-align: right;\">\n",
       "      <th></th>\n",
       "      <th>Unique Key</th>\n",
       "      <th>Created Date</th>\n",
       "      <th>Closed Date</th>\n",
       "      <th>Complaint Type</th>\n",
       "      <th>Location Type</th>\n",
       "      <th>Incident Zip</th>\n",
       "      <th>Incident Address</th>\n",
       "      <th>Street Name</th>\n",
       "      <th>Address Type</th>\n",
       "      <th>City</th>\n",
       "      <th>Status</th>\n",
       "      <th>Resolution Description</th>\n",
       "      <th>Borough</th>\n",
       "      <th>Latitude</th>\n",
       "      <th>Longitude</th>\n",
       "      <th>Year</th>\n",
       "    </tr>\n",
       "  </thead>\n",
       "  <tbody>\n",
       "    <tr>\n",
       "      <th>0</th>\n",
       "      <td>45531130</td>\n",
       "      <td>2020-02-02 06:09:17</td>\n",
       "      <td>NaT</td>\n",
       "      <td>HEAT/HOT WATER</td>\n",
       "      <td>RESIDENTIAL BUILDING</td>\n",
       "      <td>10019.0</td>\n",
       "      <td>426 WEST   52 STREET</td>\n",
       "      <td>WEST   52 STREET</td>\n",
       "      <td>ADDRESS</td>\n",
       "      <td>NEW YORK</td>\n",
       "      <td>Open</td>\n",
       "      <td>The following complaint conditions are still o...</td>\n",
       "      <td>MANHATTAN</td>\n",
       "      <td>40.765132</td>\n",
       "      <td>-73.988993</td>\n",
       "      <td>2020</td>\n",
       "    </tr>\n",
       "    <tr>\n",
       "      <th>1</th>\n",
       "      <td>45529784</td>\n",
       "      <td>2020-02-02 14:15:24</td>\n",
       "      <td>NaT</td>\n",
       "      <td>UNSANITARY CONDITION</td>\n",
       "      <td>RESIDENTIAL BUILDING</td>\n",
       "      <td>11204.0</td>\n",
       "      <td>1751 67 STREET</td>\n",
       "      <td>67 STREET</td>\n",
       "      <td>ADDRESS</td>\n",
       "      <td>BROOKLYN</td>\n",
       "      <td>Open</td>\n",
       "      <td>The following complaint conditions are still o...</td>\n",
       "      <td>BROOKLYN</td>\n",
       "      <td>40.618484</td>\n",
       "      <td>-73.992673</td>\n",
       "      <td>2020</td>\n",
       "    </tr>\n",
       "    <tr>\n",
       "      <th>2</th>\n",
       "      <td>45527528</td>\n",
       "      <td>2020-02-02 02:27:41</td>\n",
       "      <td>NaT</td>\n",
       "      <td>HEAT/HOT WATER</td>\n",
       "      <td>RESIDENTIAL BUILDING</td>\n",
       "      <td>11372.0</td>\n",
       "      <td>87-15 37 AVENUE</td>\n",
       "      <td>37 AVENUE</td>\n",
       "      <td>ADDRESS</td>\n",
       "      <td>Jackson Heights</td>\n",
       "      <td>Open</td>\n",
       "      <td>The following complaint conditions are still o...</td>\n",
       "      <td>QUEENS</td>\n",
       "      <td>40.750269</td>\n",
       "      <td>-73.879432</td>\n",
       "      <td>2020</td>\n",
       "    </tr>\n",
       "    <tr>\n",
       "      <th>3</th>\n",
       "      <td>45530329</td>\n",
       "      <td>2020-02-02 12:13:18</td>\n",
       "      <td>NaT</td>\n",
       "      <td>HEAT/HOT WATER</td>\n",
       "      <td>RESIDENTIAL BUILDING</td>\n",
       "      <td>10458.0</td>\n",
       "      <td>2405 SOUTHERN BOULEVARD</td>\n",
       "      <td>SOUTHERN BOULEVARD</td>\n",
       "      <td>ADDRESS</td>\n",
       "      <td>BRONX</td>\n",
       "      <td>Open</td>\n",
       "      <td>The following complaint conditions are still o...</td>\n",
       "      <td>BRONX</td>\n",
       "      <td>40.853773</td>\n",
       "      <td>-73.881558</td>\n",
       "      <td>2020</td>\n",
       "    </tr>\n",
       "    <tr>\n",
       "      <th>4</th>\n",
       "      <td>45528814</td>\n",
       "      <td>2020-02-02 13:59:44</td>\n",
       "      <td>NaT</td>\n",
       "      <td>APPLIANCE</td>\n",
       "      <td>RESIDENTIAL BUILDING</td>\n",
       "      <td>11209.0</td>\n",
       "      <td>223 78 STREET</td>\n",
       "      <td>78 STREET</td>\n",
       "      <td>ADDRESS</td>\n",
       "      <td>BROOKLYN</td>\n",
       "      <td>Open</td>\n",
       "      <td>The following complaint conditions are still o...</td>\n",
       "      <td>BROOKLYN</td>\n",
       "      <td>40.629745</td>\n",
       "      <td>-74.030533</td>\n",
       "      <td>2020</td>\n",
       "    </tr>\n",
       "  </tbody>\n",
       "</table>\n",
       "</div>"
      ],
      "text/plain": [
       "   Unique Key        Created Date Closed Date        Complaint Type  \\\n",
       "0    45531130 2020-02-02 06:09:17         NaT        HEAT/HOT WATER   \n",
       "1    45529784 2020-02-02 14:15:24         NaT  UNSANITARY CONDITION   \n",
       "2    45527528 2020-02-02 02:27:41         NaT        HEAT/HOT WATER   \n",
       "3    45530329 2020-02-02 12:13:18         NaT        HEAT/HOT WATER   \n",
       "4    45528814 2020-02-02 13:59:44         NaT             APPLIANCE   \n",
       "\n",
       "          Location Type  Incident Zip         Incident Address  \\\n",
       "0  RESIDENTIAL BUILDING       10019.0     426 WEST   52 STREET   \n",
       "1  RESIDENTIAL BUILDING       11204.0           1751 67 STREET   \n",
       "2  RESIDENTIAL BUILDING       11372.0          87-15 37 AVENUE   \n",
       "3  RESIDENTIAL BUILDING       10458.0  2405 SOUTHERN BOULEVARD   \n",
       "4  RESIDENTIAL BUILDING       11209.0            223 78 STREET   \n",
       "\n",
       "          Street Name Address Type             City Status  \\\n",
       "0    WEST   52 STREET      ADDRESS         NEW YORK   Open   \n",
       "1           67 STREET      ADDRESS         BROOKLYN   Open   \n",
       "2           37 AVENUE      ADDRESS  Jackson Heights   Open   \n",
       "3  SOUTHERN BOULEVARD      ADDRESS            BRONX   Open   \n",
       "4           78 STREET      ADDRESS         BROOKLYN   Open   \n",
       "\n",
       "                              Resolution Description    Borough   Latitude  \\\n",
       "0  The following complaint conditions are still o...  MANHATTAN  40.765132   \n",
       "1  The following complaint conditions are still o...   BROOKLYN  40.618484   \n",
       "2  The following complaint conditions are still o...     QUEENS  40.750269   \n",
       "3  The following complaint conditions are still o...      BRONX  40.853773   \n",
       "4  The following complaint conditions are still o...   BROOKLYN  40.629745   \n",
       "\n",
       "   Longitude  Year  \n",
       "0 -73.988993  2020  \n",
       "1 -73.992673  2020  \n",
       "2 -73.879432  2020  \n",
       "3 -73.881558  2020  \n",
       "4 -74.030533  2020  "
      ]
     },
     "execution_count": 2,
     "metadata": {},
     "output_type": "execute_result"
    }
   ],
   "source": [
    "columns = ['Created Date', 'Unique Key', 'Complaint Type', 'Incident Zip', 'Incident Address', 'Street Name',\n",
    "           'Address Type', 'City', 'Resolution Description', 'Borough', 'Latitude', 'Longitude', 'Closed Date', \n",
    "           'Location Type', 'Status']\n",
    "\n",
    "df = pd.read_csv('311_Service_Requests_from_2010_to_Present_min.csv', \n",
    "                 nrows = 1E+7, \n",
    "                 usecols = columns, \n",
    "                 parse_dates = ['Created Date', 'Closed Date'])\n",
    "\n",
    "df['Year'] = df['Created Date'].dt.year\n",
    "df.head()"
   ]
  },
  {
   "cell_type": "markdown",
   "metadata": {},
   "source": [
    "# Data Analysis\n",
    "\n",
    "First, let’s look at a summary of our dataset:"
   ]
  },
  {
   "cell_type": "code",
   "execution_count": 3,
   "metadata": {
    "ExecuteTime": {
     "end_time": "2021-01-30T11:13:04.800728Z",
     "start_time": "2021-01-30T11:13:04.782776Z"
    }
   },
   "outputs": [
    {
     "name": "stdout",
     "output_type": "stream",
     "text": [
      "<class 'pandas.core.frame.DataFrame'>\n",
      "RangeIndex: 6019843 entries, 0 to 6019842\n",
      "Data columns (total 16 columns):\n",
      " #   Column                  Dtype         \n",
      "---  ------                  -----         \n",
      " 0   Unique Key              int64         \n",
      " 1   Created Date            datetime64[ns]\n",
      " 2   Closed Date             datetime64[ns]\n",
      " 3   Complaint Type          object        \n",
      " 4   Location Type           object        \n",
      " 5   Incident Zip            float64       \n",
      " 6   Incident Address        object        \n",
      " 7   Street Name             object        \n",
      " 8   Address Type            object        \n",
      " 9   City                    object        \n",
      " 10  Status                  object        \n",
      " 11  Resolution Description  object        \n",
      " 12  Borough                 object        \n",
      " 13  Latitude                float64       \n",
      " 14  Longitude               float64       \n",
      " 15  Year                    int64         \n",
      "dtypes: datetime64[ns](2), float64(3), int64(2), object(9)\n",
      "memory usage: 734.8+ MB\n"
     ]
    }
   ],
   "source": [
    "df.info()"
   ]
  },
  {
   "cell_type": "markdown",
   "metadata": {},
   "source": [
    "There are 16 columns in total. The column of interest for this exercise is the 'Complaint Type'.\n",
    "\n",
    "How many different complaint types exist in our dataset, including duplicates entries of the same type?"
   ]
  },
  {
   "cell_type": "code",
   "execution_count": 4,
   "metadata": {
    "ExecuteTime": {
     "end_time": "2021-01-30T11:13:05.134833Z",
     "start_time": "2021-01-30T11:13:04.806712Z"
    }
   },
   "outputs": [
    {
     "name": "stdout",
     "output_type": "stream",
     "text": [
      "There are 30 different complaint types.\n"
     ]
    }
   ],
   "source": [
    "print ('There are {} different complaint types.'.format(df['Complaint Type'].nunique()))"
   ]
  },
  {
   "cell_type": "markdown",
   "metadata": {},
   "source": [
    "Let’s see how many complaints fall in each category:"
   ]
  },
  {
   "cell_type": "code",
   "execution_count": 5,
   "metadata": {
    "ExecuteTime": {
     "end_time": "2021-01-30T11:13:05.816113Z",
     "start_time": "2021-01-30T11:13:05.137826Z"
    }
   },
   "outputs": [
    {
     "data": {
      "text/plain": [
       "HEAT/HOT WATER            1261574\n",
       "HEATING                    887850\n",
       "PLUMBING                   711130\n",
       "GENERAL CONSTRUCTION       500863\n",
       "UNSANITARY CONDITION       451643\n",
       "PAINT - PLASTER            361257\n",
       "PAINT/PLASTER              346438\n",
       "ELECTRIC                   307310\n",
       "NONCONST                   260890\n",
       "DOOR/WINDOW                205278\n",
       "WATER LEAK                 193631\n",
       "GENERAL                    151308\n",
       "FLOORING/STAIRS            137402\n",
       "APPLIANCE                  112831\n",
       "HPD Literature Request      52824\n",
       "SAFETY                      51529\n",
       "OUTSIDE BUILDING             7142\n",
       "ELEVATOR                     6725\n",
       "Unsanitary Condition         5499\n",
       "CONSTRUCTION                 5078\n",
       "General                      1163\n",
       "Safety                        424\n",
       "STRUCTURAL                     16\n",
       "Plumbing                       11\n",
       "AGENCY                          9\n",
       "Outside Building                6\n",
       "VACANT APARTMENT                6\n",
       "Appliance                       4\n",
       "Mold                            1\n",
       "Electric                        1\n",
       "Name: Complaint Type, dtype: int64"
      ]
     },
     "execution_count": 5,
     "metadata": {},
     "output_type": "execute_result"
    }
   ],
   "source": [
    "df['Complaint Type'].value_counts()   # Returns a Series containing counts of unique values."
   ]
  },
  {
   "cell_type": "markdown",
   "metadata": {},
   "source": [
    "The first two types appear to be similar. That's because in 2014 the label changed from 'HEATING' to 'HEAT/HOT WATER'. Therefore, we need to merge these complaint types and analyse them together. We will perform the same thing for the 'PAINT - PLASTER'-'PAINT/PLASTER' types. "
   ]
  },
  {
   "cell_type": "code",
   "execution_count": 6,
   "metadata": {
    "ExecuteTime": {
     "end_time": "2021-01-30T11:13:07.415102Z",
     "start_time": "2021-01-30T11:13:05.818102Z"
    }
   },
   "outputs": [
    {
     "name": "stdout",
     "output_type": "stream",
     "text": [
      "Top 5 complaints:\n"
     ]
    },
    {
     "data": {
      "text/plain": [
       "HEAT/HOT WATER          2149424\n",
       "PLUMBING                 711130\n",
       "PAINT/PLASTER            707695\n",
       "GENERAL CONSTRUCTION     500863\n",
       "UNSANITARY CONDITION     451643\n",
       "Name: Complaint Type, dtype: int64"
      ]
     },
     "execution_count": 6,
     "metadata": {},
     "output_type": "execute_result"
    }
   ],
   "source": [
    "df.loc[df['Complaint Type'] == 'HEATING', 'Complaint Type'] = 'HEAT/HOT WATER'\n",
    "df.loc[df['Complaint Type'] == 'PAINT - PLASTER', 'Complaint Type'] = 'PAINT/PLASTER'\n",
    "\n",
    "# or\n",
    "# df['Complaint Type'] = np.where(df['Complaint Type'] == 'HEATING','HEAT/HOT WATER', df['Complaint Type'])\n",
    "\n",
    "print ('Top 5 complaints:')\n",
    "df['Complaint Type'].value_counts().head()"
   ]
  },
  {
   "cell_type": "markdown",
   "metadata": {},
   "source": [
    "To visualise the results, we will first merge the less common complaints into a new one titled ‘Rest’."
   ]
  },
  {
   "cell_type": "code",
   "execution_count": 7,
   "metadata": {
    "ExecuteTime": {
     "end_time": "2021-01-30T11:13:10.220369Z",
     "start_time": "2021-01-30T11:13:07.417062Z"
    }
   },
   "outputs": [
    {
     "data": {
      "image/png": "[encoded data removed]",
      "text/plain": [
       "<Figure size 864x648 with 1 Axes>"
      ]
     },
     "metadata": {
      "image/png": {
       "height": 538,
       "width": 925
      },
      "needs_background": "light"
     },
     "output_type": "display_data"
    }
   ],
   "source": [
    "df_new = df.copy()\n",
    "\n",
    "# find the name of the less common complaints and rename all corresponding rows\n",
    "idx = df['Complaint Type'].value_counts().sort_values().head(16).index\n",
    "df_new.loc[df_new['Complaint Type'].isin(idx), 'Complaint Type'] = 'Rest'\n",
    "\n",
    "df_complaints = df_new['Complaint Type'].value_counts().sort_values()\n",
    "\n",
    "df_complaints.plot(kind = 'barh', figsize = (12, 9), fontsize = 11, color = sns.color_palette('coolwarm', len(df_complaints)))\n",
    "plt.ylabel('Complaint Type', fontsize = 14)\n",
    "plt.xlabel('Number of Complaints', fontsize = 14)\n",
    "\n",
    "# Includes the number of incidents and the corresponding percentage for every type\n",
    "for index, value in enumerate(df_complaints):    \n",
    "    label = str(format(int(value), ',')) + '  -  {}%'.format(round( (value/df_complaints.sum())*100, 1)) \n",
    "    plt.annotate(label, xy = (value + 20000, index - 0.2 ), color = 'red')"
   ]
  },
  {
   "cell_type": "markdown",
   "metadata": {},
   "source": [
    "Evidently, <font color=\"firebrick\">'HEAT/HOT WATER'</font> is the <font color=\"firebrick\">most frequent complaint</font> during the studied period. It amounts to approximately 36% of all complaints.\n",
    "\n",
    "Is it also the most common complaint for each year individually?"
   ]
  },
  {
   "cell_type": "code",
   "execution_count": 8,
   "metadata": {
    "ExecuteTime": {
     "end_time": "2021-01-30T11:13:11.064211Z",
     "start_time": "2021-01-30T11:13:10.227316Z"
    }
   },
   "outputs": [
    {
     "data": {
      "text/plain": [
       "Year\n",
       "2010    HEAT/HOT WATER\n",
       "2011    HEAT/HOT WATER\n",
       "2012    HEAT/HOT WATER\n",
       "2013    HEAT/HOT WATER\n",
       "2014    HEAT/HOT WATER\n",
       "2015    HEAT/HOT WATER\n",
       "2016    HEAT/HOT WATER\n",
       "2017    HEAT/HOT WATER\n",
       "2018    HEAT/HOT WATER\n",
       "2019    HEAT/HOT WATER\n",
       "2020    HEAT/HOT WATER\n",
       "Name: Complaint Type, dtype: object"
      ]
     },
     "execution_count": 8,
     "metadata": {},
     "output_type": "execute_result"
    }
   ],
   "source": [
    "df.groupby(['Year'])['Complaint Type'].agg(pd.Series.mode)"
   ]
  },
  {
   "cell_type": "markdown",
   "metadata": {},
   "source": [
    "It has been indeed the most common complaint for each year individually. "
   ]
  },
  {
   "cell_type": "markdown",
   "metadata": {},
   "source": [
    "<br>\n",
    "\n",
    "# Conclusions\n",
    "\n",
    "Based on the previous analysis, the Department of Housing Preservation and Development of New York City should address the <font color=\"firebrick\"><b>'HEAT/HOT WATER'</b></font> complaint first. This type of complaint has the highest number of reports (more than 2 million, amounting to 36% of all complaints) and has always been the most frequent complaint in every individual year since 2010."
   ]
  },
  {
   "cell_type": "markdown",
   "metadata": {},
   "source": [
    "<br>\n",
    "\n",
    "---\n",
    "\n",
    "# Quiz\n",
    "\n",
    "## Question 1\n",
    "\n",
    "What is the total number of complaints that exist in the dataset?"
   ]
  },
  {
   "cell_type": "code",
   "execution_count": 9,
   "metadata": {
    "ExecuteTime": {
     "end_time": "2021-01-30T11:13:11.306599Z",
     "start_time": "2021-01-30T11:13:11.067205Z"
    }
   },
   "outputs": [
    {
     "data": {
      "text/plain": [
       "6019843"
      ]
     },
     "execution_count": 9,
     "metadata": {},
     "output_type": "execute_result"
    }
   ],
   "source": [
    "df['Complaint Type'].notnull().sum()"
   ]
  },
  {
   "cell_type": "markdown",
   "metadata": {},
   "source": [
    "## Question 2\n",
    "\n",
    "How many different types of complaints can you find in the dataset, including duplicates entries of the same type?"
   ]
  },
  {
   "cell_type": "code",
   "execution_count": 10,
   "metadata": {
    "ExecuteTime": {
     "end_time": "2021-01-30T11:13:11.646166Z",
     "start_time": "2021-01-30T11:13:11.311550Z"
    }
   },
   "outputs": [
    {
     "data": {
      "text/plain": [
       "30"
      ]
     },
     "execution_count": 10,
     "metadata": {},
     "output_type": "execute_result"
    }
   ],
   "source": [
    "df['Complaint Type'].nunique() + 2 # we add 2 because we merged two pairs of duplicates entries of the same type"
   ]
  },
  {
   "cell_type": "markdown",
   "metadata": {},
   "source": [
    "## Question 3\n",
    "\n",
    "How many Elevator complaints can you find in the dataset?"
   ]
  },
  {
   "cell_type": "code",
   "execution_count": 11,
   "metadata": {
    "ExecuteTime": {
     "end_time": "2021-01-30T11:13:12.269701Z",
     "start_time": "2021-01-30T11:13:11.649160Z"
    }
   },
   "outputs": [
    {
     "data": {
      "text/plain": [
       "6725"
      ]
     },
     "execution_count": 11,
     "metadata": {},
     "output_type": "execute_result"
    }
   ],
   "source": [
    "df['Complaint Type'].value_counts()['ELEVATOR']"
   ]
  },
  {
   "cell_type": "markdown",
   "metadata": {},
   "source": [
    "## Question 4\n",
    "\n",
    "How many Electric complaints can you find in the dataset?"
   ]
  },
  {
   "cell_type": "code",
   "execution_count": 12,
   "metadata": {
    "ExecuteTime": {
     "end_time": "2021-01-30T11:13:12.421287Z",
     "start_time": "2021-01-30T11:13:12.271688Z"
    },
    "code_folding": []
   },
   "outputs": [
    {
     "data": {
      "text/plain": [
       "307311"
      ]
     },
     "execution_count": 12,
     "metadata": {},
     "output_type": "execute_result"
    }
   ],
   "source": [
    "df['Complaint Type'].isin(['ELECTRIC', 'Electric']).sum()\n",
    "\n",
    "# df['Complaint Type'].value_counts()['ELECTRIC'] + df['Complaint Type'].value_counts()['Electric']"
   ]
  }
 ],
 "metadata": {
  "hide_input": false,
  "kernelspec": {
   "display_name": "Python 3",
   "language": "python",
   "name": "python3"
  },
  "language_info": {
   "codemirror_mode": {
    "name": "ipython",
    "version": 3
   },
   "file_extension": ".py",
   "mimetype": "text/x-python",
   "name": "python",
   "nbconvert_exporter": "python",
   "pygments_lexer": "ipython3",
   "version": "3.6.8"
  },
  "varInspector": {
   "cols": {
    "lenName": 16,
    "lenType": 16,
    "lenVar": 40
   },
   "kernels_config": {
    "python": {
     "delete_cmd_postfix": "",
     "delete_cmd_prefix": "del ",
     "library": "var_list.py",
     "varRefreshCmd": "print(var_dic_list())"
    },
    "r": {
     "delete_cmd_postfix": ") ",
     "delete_cmd_prefix": "rm(",
     "library": "var_list.r",
     "varRefreshCmd": "cat(var_dic_list()) "
    }
   },
   "types_to_exclude": [
    "module",
    "function",
    "builtin_function_or_method",
    "instance",
    "_Feature"
   ],
   "window_display": false
  }
 },
 "nbformat": 4,
 "nbformat_minor": 2
}
