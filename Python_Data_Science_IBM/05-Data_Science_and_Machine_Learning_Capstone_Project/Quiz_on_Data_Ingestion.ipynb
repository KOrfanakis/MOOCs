{
 "cells": [
  {
   "cell_type": "markdown",
   "metadata": {},
   "source": [
    "# Quiz on Data Ingestion\n",
    "\n",
    "This notebook contains the code for answering the first quiz of the online course '[Data Science and Machine Learning Capstone Project](https://www.edx.org/course/data-science-and-machine-learning-capstone-project)'. Its primary purpose is to familiarise ourselves with the datasets. \n",
    "\n",
    "Pandas is the only library required for this task."
   ]
  },
  {
   "cell_type": "code",
   "execution_count": 1,
   "metadata": {
    "ExecuteTime": {
     "end_time": "2021-01-30T10:38:11.705643Z",
     "start_time": "2021-01-30T10:38:06.181030Z"
    }
   },
   "outputs": [],
   "source": [
    "import pandas as pd"
   ]
  },
  {
   "cell_type": "markdown",
   "metadata": {},
   "source": [
    "# Data\n",
    "\n",
    "## NYC 311 Dataset\n",
    "\n",
    "The dataset is available on the [NYC Open Data](https://data.cityofnewyork.us/Social-Services/311-Service-Requests-from-2010-to-Present/erm2-nwe9) website. The course authors have already downloaded the data and placed it on an IBM server for our convenience. We can download the data using [this link](https://cocl.us/311_NYC_Dataset). \n",
    "\n",
    "We can load the data from the CSV file by using the `read_csv()` method. We specify the total number of rows as 10 million and download data only for relevant columns so that the data volume is manageable."
   ]
  },
  {
   "cell_type": "code",
   "execution_count": 2,
   "metadata": {
    "ExecuteTime": {
     "end_time": "2021-01-30T10:52:43.961762Z",
     "start_time": "2021-01-30T10:38:11.712625Z"
    }
   },
   "outputs": [],
   "source": [
    "columns = ['Created Date', 'Unique Key', 'Complaint Type', 'Incident Zip', 'Incident Address', 'Street Name',\n",
    "           'Address Type', 'City', 'Resolution Description', 'Borough', 'Latitude', 'Longitude', 'Closed Date', \n",
    "           'Location Type', 'Status']\n",
    "\n",
    "df = pd.read_csv('311_Service_Requests_from_2010_to_Present_min.csv', \n",
    "                 nrows = 1E+7, \n",
    "                 usecols = columns,\n",
    "                 parse_dates = ['Created Date', 'Closed Date'])"
   ]
  },
  {
   "cell_type": "markdown",
   "metadata": {},
   "source": [
    "Once the DataFrame is created, we can inspect the top five rows with the `head()` method."
   ]
  },
  {
   "cell_type": "code",
   "execution_count": 3,
   "metadata": {
    "ExecuteTime": {
     "end_time": "2021-01-30T10:52:44.007154Z",
     "start_time": "2021-01-30T10:52:43.964755Z"
    }
   },
   "outputs": [
    {
     "name": "stdout",
     "output_type": "stream",
     "text": [
      "The dataset contains 6019843 rows and 15 columns.\n"
     ]
    },
    {
     "data": {
      "text/html": [
       "<div>\n",
       "<style scoped>\n",
       "    .dataframe tbody tr th:only-of-type {\n",
       "        vertical-align: middle;\n",
       "    }\n",
       "\n",
       "    .dataframe tbody tr th {\n",
       "        vertical-align: top;\n",
       "    }\n",
       "\n",
       "    .dataframe thead th {\n",
       "        text-align: right;\n",
       "    }\n",
       "</style>\n",
       "<table border=\"1\" class=\"dataframe\">\n",
       "  <thead>\n",
       "    <tr style=\"text-align: right;\">\n",
       "      <th></th>\n",
       "      <th>Unique Key</th>\n",
       "      <th>Created Date</th>\n",
       "      <th>Closed Date</th>\n",
       "      <th>Complaint Type</th>\n",
       "      <th>Location Type</th>\n",
       "      <th>Incident Zip</th>\n",
       "      <th>Incident Address</th>\n",
       "      <th>Street Name</th>\n",
       "      <th>Address Type</th>\n",
       "      <th>City</th>\n",
       "      <th>Status</th>\n",
       "      <th>Resolution Description</th>\n",
       "      <th>Borough</th>\n",
       "      <th>Latitude</th>\n",
       "      <th>Longitude</th>\n",
       "    </tr>\n",
       "  </thead>\n",
       "  <tbody>\n",
       "    <tr>\n",
       "      <th>0</th>\n",
       "      <td>45531130</td>\n",
       "      <td>2020-02-02 06:09:17</td>\n",
       "      <td>NaT</td>\n",
       "      <td>HEAT/HOT WATER</td>\n",
       "      <td>RESIDENTIAL BUILDING</td>\n",
       "      <td>10019.0</td>\n",
       "      <td>426 WEST   52 STREET</td>\n",
       "      <td>WEST   52 STREET</td>\n",
       "      <td>ADDRESS</td>\n",
       "      <td>NEW YORK</td>\n",
       "      <td>Open</td>\n",
       "      <td>The following complaint conditions are still o...</td>\n",
       "      <td>MANHATTAN</td>\n",
       "      <td>40.765132</td>\n",
       "      <td>-73.988993</td>\n",
       "    </tr>\n",
       "    <tr>\n",
       "      <th>1</th>\n",
       "      <td>45529784</td>\n",
       "      <td>2020-02-02 14:15:24</td>\n",
       "      <td>NaT</td>\n",
       "      <td>UNSANITARY CONDITION</td>\n",
       "      <td>RESIDENTIAL BUILDING</td>\n",
       "      <td>11204.0</td>\n",
       "      <td>1751 67 STREET</td>\n",
       "      <td>67 STREET</td>\n",
       "      <td>ADDRESS</td>\n",
       "      <td>BROOKLYN</td>\n",
       "      <td>Open</td>\n",
       "      <td>The following complaint conditions are still o...</td>\n",
       "      <td>BROOKLYN</td>\n",
       "      <td>40.618484</td>\n",
       "      <td>-73.992673</td>\n",
       "    </tr>\n",
       "    <tr>\n",
       "      <th>2</th>\n",
       "      <td>45527528</td>\n",
       "      <td>2020-02-02 02:27:41</td>\n",
       "      <td>NaT</td>\n",
       "      <td>HEAT/HOT WATER</td>\n",
       "      <td>RESIDENTIAL BUILDING</td>\n",
       "      <td>11372.0</td>\n",
       "      <td>87-15 37 AVENUE</td>\n",
       "      <td>37 AVENUE</td>\n",
       "      <td>ADDRESS</td>\n",
       "      <td>Jackson Heights</td>\n",
       "      <td>Open</td>\n",
       "      <td>The following complaint conditions are still o...</td>\n",
       "      <td>QUEENS</td>\n",
       "      <td>40.750269</td>\n",
       "      <td>-73.879432</td>\n",
       "    </tr>\n",
       "    <tr>\n",
       "      <th>3</th>\n",
       "      <td>45530329</td>\n",
       "      <td>2020-02-02 12:13:18</td>\n",
       "      <td>NaT</td>\n",
       "      <td>HEAT/HOT WATER</td>\n",
       "      <td>RESIDENTIAL BUILDING</td>\n",
       "      <td>10458.0</td>\n",
       "      <td>2405 SOUTHERN BOULEVARD</td>\n",
       "      <td>SOUTHERN BOULEVARD</td>\n",
       "      <td>ADDRESS</td>\n",
       "      <td>BRONX</td>\n",
       "      <td>Open</td>\n",
       "      <td>The following complaint conditions are still o...</td>\n",
       "      <td>BRONX</td>\n",
       "      <td>40.853773</td>\n",
       "      <td>-73.881558</td>\n",
       "    </tr>\n",
       "    <tr>\n",
       "      <th>4</th>\n",
       "      <td>45528814</td>\n",
       "      <td>2020-02-02 13:59:44</td>\n",
       "      <td>NaT</td>\n",
       "      <td>APPLIANCE</td>\n",
       "      <td>RESIDENTIAL BUILDING</td>\n",
       "      <td>11209.0</td>\n",
       "      <td>223 78 STREET</td>\n",
       "      <td>78 STREET</td>\n",
       "      <td>ADDRESS</td>\n",
       "      <td>BROOKLYN</td>\n",
       "      <td>Open</td>\n",
       "      <td>The following complaint conditions are still o...</td>\n",
       "      <td>BROOKLYN</td>\n",
       "      <td>40.629745</td>\n",
       "      <td>-74.030533</td>\n",
       "    </tr>\n",
       "  </tbody>\n",
       "</table>\n",
       "</div>"
      ],
      "text/plain": [
       "   Unique Key        Created Date Closed Date        Complaint Type  \\\n",
       "0    45531130 2020-02-02 06:09:17         NaT        HEAT/HOT WATER   \n",
       "1    45529784 2020-02-02 14:15:24         NaT  UNSANITARY CONDITION   \n",
       "2    45527528 2020-02-02 02:27:41         NaT        HEAT/HOT WATER   \n",
       "3    45530329 2020-02-02 12:13:18         NaT        HEAT/HOT WATER   \n",
       "4    45528814 2020-02-02 13:59:44         NaT             APPLIANCE   \n",
       "\n",
       "          Location Type  Incident Zip         Incident Address  \\\n",
       "0  RESIDENTIAL BUILDING       10019.0     426 WEST   52 STREET   \n",
       "1  RESIDENTIAL BUILDING       11204.0           1751 67 STREET   \n",
       "2  RESIDENTIAL BUILDING       11372.0          87-15 37 AVENUE   \n",
       "3  RESIDENTIAL BUILDING       10458.0  2405 SOUTHERN BOULEVARD   \n",
       "4  RESIDENTIAL BUILDING       11209.0            223 78 STREET   \n",
       "\n",
       "          Street Name Address Type             City Status  \\\n",
       "0    WEST   52 STREET      ADDRESS         NEW YORK   Open   \n",
       "1           67 STREET      ADDRESS         BROOKLYN   Open   \n",
       "2           37 AVENUE      ADDRESS  Jackson Heights   Open   \n",
       "3  SOUTHERN BOULEVARD      ADDRESS            BRONX   Open   \n",
       "4           78 STREET      ADDRESS         BROOKLYN   Open   \n",
       "\n",
       "                              Resolution Description    Borough   Latitude  \\\n",
       "0  The following complaint conditions are still o...  MANHATTAN  40.765132   \n",
       "1  The following complaint conditions are still o...   BROOKLYN  40.618484   \n",
       "2  The following complaint conditions are still o...     QUEENS  40.750269   \n",
       "3  The following complaint conditions are still o...      BRONX  40.853773   \n",
       "4  The following complaint conditions are still o...   BROOKLYN  40.629745   \n",
       "\n",
       "   Longitude  \n",
       "0 -73.988993  \n",
       "1 -73.992673  \n",
       "2 -73.879432  \n",
       "3 -73.881558  \n",
       "4 -74.030533  "
      ]
     },
     "execution_count": 3,
     "metadata": {},
     "output_type": "execute_result"
    }
   ],
   "source": [
    "print ('The dataset contains {} rows and {} columns.'.format(df.shape[0], df.shape[1]))\n",
    "df.head()"
   ]
  },
  {
   "cell_type": "markdown",
   "metadata": {},
   "source": [
    "We can check the data type of each column:"
   ]
  },
  {
   "cell_type": "code",
   "execution_count": 4,
   "metadata": {
    "ExecuteTime": {
     "end_time": "2021-01-30T10:52:44.018122Z",
     "start_time": "2021-01-30T10:52:44.010154Z"
    }
   },
   "outputs": [
    {
     "data": {
      "text/plain": [
       "Unique Key                         int64\n",
       "Created Date              datetime64[ns]\n",
       "Closed Date               datetime64[ns]\n",
       "Complaint Type                    object\n",
       "Location Type                     object\n",
       "Incident Zip                     float64\n",
       "Incident Address                  object\n",
       "Street Name                       object\n",
       "Address Type                      object\n",
       "City                              object\n",
       "Status                            object\n",
       "Resolution Description            object\n",
       "Borough                           object\n",
       "Latitude                         float64\n",
       "Longitude                        float64\n",
       "dtype: object"
      ]
     },
     "execution_count": 4,
     "metadata": {},
     "output_type": "execute_result"
    }
   ],
   "source": [
    "df.dtypes"
   ]
  },
  {
   "cell_type": "markdown",
   "metadata": {},
   "source": [
    "Notice that the features 'Created Date' and 'Closed Date' are datetimes.\n",
    "\n",
    "## NYC PLUTO Dataset\n",
    "\n",
    "We can download the PLUTO dataset as a zip file from [this link](https://www1.nyc.gov/assets/planning/download/zip/data-maps/open-data/nyc_pluto_18v1.zip). After extracting the file, we should have five CSV files for the five New York City boroughs: the Bronx, Brooklyn, Manhattan, Queens, and Staten Island.\n",
    "\n",
    "For questions 4 and 5, we need the Bronx and Queens datasets, respectively."
   ]
  },
  {
   "cell_type": "code",
   "execution_count": 5,
   "metadata": {
    "ExecuteTime": {
     "end_time": "2021-01-30T10:52:44.908739Z",
     "start_time": "2021-01-30T10:52:44.023110Z"
    }
   },
   "outputs": [
    {
     "name": "stderr",
     "output_type": "stream",
     "text": [
      "C:\\Users\\ko40\\AppData\\Local\\Continuum\\anaconda3\\lib\\site-packages\\IPython\\core\\interactiveshell.py:3057: DtypeWarning: Columns (19,20,22,23,64,65,80) have mixed types.Specify dtype option on import or set low_memory=False.\n",
      "  interactivity=interactivity, compiler=compiler, result=result)\n"
     ]
    },
    {
     "data": {
      "text/html": [
       "<div>\n",
       "<style scoped>\n",
       "    .dataframe tbody tr th:only-of-type {\n",
       "        vertical-align: middle;\n",
       "    }\n",
       "\n",
       "    .dataframe tbody tr th {\n",
       "        vertical-align: top;\n",
       "    }\n",
       "\n",
       "    .dataframe thead th {\n",
       "        text-align: right;\n",
       "    }\n",
       "</style>\n",
       "<table border=\"1\" class=\"dataframe\">\n",
       "  <thead>\n",
       "    <tr style=\"text-align: right;\">\n",
       "      <th></th>\n",
       "      <th>Borough</th>\n",
       "      <th>Block</th>\n",
       "      <th>Lot</th>\n",
       "      <th>CD</th>\n",
       "      <th>CT2010</th>\n",
       "      <th>CB2010</th>\n",
       "      <th>SchoolDist</th>\n",
       "      <th>Council</th>\n",
       "      <th>ZipCode</th>\n",
       "      <th>FireComp</th>\n",
       "      <th>...</th>\n",
       "      <th>ZMCode</th>\n",
       "      <th>Sanborn</th>\n",
       "      <th>TaxMap</th>\n",
       "      <th>EDesigNum</th>\n",
       "      <th>APPBBL</th>\n",
       "      <th>APPDate</th>\n",
       "      <th>PLUTOMapID</th>\n",
       "      <th>FIRM07_FLAG</th>\n",
       "      <th>PFIRM15_FLAG</th>\n",
       "      <th>Version</th>\n",
       "    </tr>\n",
       "  </thead>\n",
       "  <tbody>\n",
       "    <tr>\n",
       "      <th>0</th>\n",
       "      <td>BX</td>\n",
       "      <td>2260</td>\n",
       "      <td>1</td>\n",
       "      <td>201</td>\n",
       "      <td>19.0</td>\n",
       "      <td>1022.0</td>\n",
       "      <td>7.0</td>\n",
       "      <td>8.0</td>\n",
       "      <td>10454.0</td>\n",
       "      <td>L029</td>\n",
       "      <td>...</td>\n",
       "      <td>NaN</td>\n",
       "      <td>209S016</td>\n",
       "      <td>20901.0</td>\n",
       "      <td>E-143</td>\n",
       "      <td>0.0</td>\n",
       "      <td>NaN</td>\n",
       "      <td>1</td>\n",
       "      <td>NaN</td>\n",
       "      <td>NaN</td>\n",
       "      <td>18V1</td>\n",
       "    </tr>\n",
       "    <tr>\n",
       "      <th>1</th>\n",
       "      <td>BX</td>\n",
       "      <td>2260</td>\n",
       "      <td>4</td>\n",
       "      <td>201</td>\n",
       "      <td>19.0</td>\n",
       "      <td>1022.0</td>\n",
       "      <td>7.0</td>\n",
       "      <td>8.0</td>\n",
       "      <td>10454.0</td>\n",
       "      <td>L029</td>\n",
       "      <td>...</td>\n",
       "      <td>NaN</td>\n",
       "      <td>209S016</td>\n",
       "      <td>20901.0</td>\n",
       "      <td>E-143</td>\n",
       "      <td>0.0</td>\n",
       "      <td>NaN</td>\n",
       "      <td>1</td>\n",
       "      <td>NaN</td>\n",
       "      <td>NaN</td>\n",
       "      <td>18V1</td>\n",
       "    </tr>\n",
       "    <tr>\n",
       "      <th>2</th>\n",
       "      <td>BX</td>\n",
       "      <td>2260</td>\n",
       "      <td>10</td>\n",
       "      <td>201</td>\n",
       "      <td>19.0</td>\n",
       "      <td>1022.0</td>\n",
       "      <td>7.0</td>\n",
       "      <td>8.0</td>\n",
       "      <td>10454.0</td>\n",
       "      <td>L029</td>\n",
       "      <td>...</td>\n",
       "      <td>NaN</td>\n",
       "      <td>209S016</td>\n",
       "      <td>20901.0</td>\n",
       "      <td>E-143</td>\n",
       "      <td>0.0</td>\n",
       "      <td>NaN</td>\n",
       "      <td>1</td>\n",
       "      <td>NaN</td>\n",
       "      <td>NaN</td>\n",
       "      <td>18V1</td>\n",
       "    </tr>\n",
       "    <tr>\n",
       "      <th>3</th>\n",
       "      <td>BX</td>\n",
       "      <td>2260</td>\n",
       "      <td>17</td>\n",
       "      <td>201</td>\n",
       "      <td>19.0</td>\n",
       "      <td>1022.0</td>\n",
       "      <td>7.0</td>\n",
       "      <td>8.0</td>\n",
       "      <td>10454.0</td>\n",
       "      <td>L029</td>\n",
       "      <td>...</td>\n",
       "      <td>NaN</td>\n",
       "      <td>209S016</td>\n",
       "      <td>20901.0</td>\n",
       "      <td>E-143</td>\n",
       "      <td>0.0</td>\n",
       "      <td>NaN</td>\n",
       "      <td>1</td>\n",
       "      <td>NaN</td>\n",
       "      <td>NaN</td>\n",
       "      <td>18V1</td>\n",
       "    </tr>\n",
       "    <tr>\n",
       "      <th>4</th>\n",
       "      <td>BX</td>\n",
       "      <td>2260</td>\n",
       "      <td>18</td>\n",
       "      <td>201</td>\n",
       "      <td>19.0</td>\n",
       "      <td>1022.0</td>\n",
       "      <td>7.0</td>\n",
       "      <td>8.0</td>\n",
       "      <td>10454.0</td>\n",
       "      <td>L029</td>\n",
       "      <td>...</td>\n",
       "      <td>NaN</td>\n",
       "      <td>209S016</td>\n",
       "      <td>20901.0</td>\n",
       "      <td>E-143</td>\n",
       "      <td>0.0</td>\n",
       "      <td>NaN</td>\n",
       "      <td>1</td>\n",
       "      <td>NaN</td>\n",
       "      <td>NaN</td>\n",
       "      <td>18V1</td>\n",
       "    </tr>\n",
       "  </tbody>\n",
       "</table>\n",
       "<p>5 rows × 87 columns</p>\n",
       "</div>"
      ],
      "text/plain": [
       "  Borough  Block  Lot   CD  CT2010  CB2010  SchoolDist  Council  ZipCode  \\\n",
       "0      BX   2260    1  201    19.0  1022.0         7.0      8.0  10454.0   \n",
       "1      BX   2260    4  201    19.0  1022.0         7.0      8.0  10454.0   \n",
       "2      BX   2260   10  201    19.0  1022.0         7.0      8.0  10454.0   \n",
       "3      BX   2260   17  201    19.0  1022.0         7.0      8.0  10454.0   \n",
       "4      BX   2260   18  201    19.0  1022.0         7.0      8.0  10454.0   \n",
       "\n",
       "  FireComp  ...  ZMCode  Sanborn   TaxMap  EDesigNum  APPBBL APPDate  \\\n",
       "0     L029  ...     NaN  209S016  20901.0      E-143     0.0     NaN   \n",
       "1     L029  ...     NaN  209S016  20901.0      E-143     0.0     NaN   \n",
       "2     L029  ...     NaN  209S016  20901.0      E-143     0.0     NaN   \n",
       "3     L029  ...     NaN  209S016  20901.0      E-143     0.0     NaN   \n",
       "4     L029  ...     NaN  209S016  20901.0      E-143     0.0     NaN   \n",
       "\n",
       "  PLUTOMapID FIRM07_FLAG PFIRM15_FLAG Version  \n",
       "0          1         NaN          NaN    18V1  \n",
       "1          1         NaN          NaN    18V1  \n",
       "2          1         NaN          NaN    18V1  \n",
       "3          1         NaN          NaN    18V1  \n",
       "4          1         NaN          NaN    18V1  \n",
       "\n",
       "[5 rows x 87 columns]"
      ]
     },
     "execution_count": 5,
     "metadata": {},
     "output_type": "execute_result"
    }
   ],
   "source": [
    "df_bronx = pd.read_csv('BX_18v1.csv')\n",
    "df_bronx.head()"
   ]
  },
  {
   "cell_type": "code",
   "execution_count": 6,
   "metadata": {
    "ExecuteTime": {
     "end_time": "2021-01-30T10:52:48.761434Z",
     "start_time": "2021-01-30T10:52:44.911733Z"
    }
   },
   "outputs": [
    {
     "name": "stderr",
     "output_type": "stream",
     "text": [
      "C:\\Users\\ko40\\AppData\\Local\\Continuum\\anaconda3\\lib\\site-packages\\IPython\\core\\interactiveshell.py:3057: DtypeWarning: Columns (19,20,22,23,64,65,77) have mixed types.Specify dtype option on import or set low_memory=False.\n",
      "  interactivity=interactivity, compiler=compiler, result=result)\n"
     ]
    },
    {
     "data": {
      "text/html": [
       "<div>\n",
       "<style scoped>\n",
       "    .dataframe tbody tr th:only-of-type {\n",
       "        vertical-align: middle;\n",
       "    }\n",
       "\n",
       "    .dataframe tbody tr th {\n",
       "        vertical-align: top;\n",
       "    }\n",
       "\n",
       "    .dataframe thead th {\n",
       "        text-align: right;\n",
       "    }\n",
       "</style>\n",
       "<table border=\"1\" class=\"dataframe\">\n",
       "  <thead>\n",
       "    <tr style=\"text-align: right;\">\n",
       "      <th></th>\n",
       "      <th>Borough</th>\n",
       "      <th>Block</th>\n",
       "      <th>Lot</th>\n",
       "      <th>CD</th>\n",
       "      <th>CT2010</th>\n",
       "      <th>CB2010</th>\n",
       "      <th>SchoolDist</th>\n",
       "      <th>Council</th>\n",
       "      <th>ZipCode</th>\n",
       "      <th>FireComp</th>\n",
       "      <th>...</th>\n",
       "      <th>ZMCode</th>\n",
       "      <th>Sanborn</th>\n",
       "      <th>TaxMap</th>\n",
       "      <th>EDesigNum</th>\n",
       "      <th>APPBBL</th>\n",
       "      <th>APPDate</th>\n",
       "      <th>PLUTOMapID</th>\n",
       "      <th>FIRM07_FLAG</th>\n",
       "      <th>PFIRM15_FLAG</th>\n",
       "      <th>Version</th>\n",
       "    </tr>\n",
       "  </thead>\n",
       "  <tbody>\n",
       "    <tr>\n",
       "      <th>0</th>\n",
       "      <td>QN</td>\n",
       "      <td>6</td>\n",
       "      <td>1</td>\n",
       "      <td>402</td>\n",
       "      <td>1.0</td>\n",
       "      <td>NaN</td>\n",
       "      <td>30.0</td>\n",
       "      <td>26.0</td>\n",
       "      <td>11101.0</td>\n",
       "      <td>L115</td>\n",
       "      <td>...</td>\n",
       "      <td>Y</td>\n",
       "      <td>401 011</td>\n",
       "      <td>40101.0</td>\n",
       "      <td>NaN</td>\n",
       "      <td>4.000060e+09</td>\n",
       "      <td>09/20/2013</td>\n",
       "      <td>1</td>\n",
       "      <td>1.0</td>\n",
       "      <td>1.0</td>\n",
       "      <td>18V1</td>\n",
       "    </tr>\n",
       "    <tr>\n",
       "      <th>1</th>\n",
       "      <td>QN</td>\n",
       "      <td>6</td>\n",
       "      <td>3</td>\n",
       "      <td>402</td>\n",
       "      <td>1.0</td>\n",
       "      <td>1015.0</td>\n",
       "      <td>30.0</td>\n",
       "      <td>26.0</td>\n",
       "      <td>11101.0</td>\n",
       "      <td>L115</td>\n",
       "      <td>...</td>\n",
       "      <td>NaN</td>\n",
       "      <td>401 011</td>\n",
       "      <td>40101.0</td>\n",
       "      <td>NaN</td>\n",
       "      <td>0.000000e+00</td>\n",
       "      <td>NaN</td>\n",
       "      <td>1</td>\n",
       "      <td>1.0</td>\n",
       "      <td>1.0</td>\n",
       "      <td>18V1</td>\n",
       "    </tr>\n",
       "    <tr>\n",
       "      <th>2</th>\n",
       "      <td>QN</td>\n",
       "      <td>6</td>\n",
       "      <td>8</td>\n",
       "      <td>402</td>\n",
       "      <td>1.0</td>\n",
       "      <td>1011.0</td>\n",
       "      <td>30.0</td>\n",
       "      <td>26.0</td>\n",
       "      <td>11101.0</td>\n",
       "      <td>L115</td>\n",
       "      <td>...</td>\n",
       "      <td>NaN</td>\n",
       "      <td>401 011</td>\n",
       "      <td>40101.0</td>\n",
       "      <td>NaN</td>\n",
       "      <td>4.000060e+09</td>\n",
       "      <td>08/07/2013</td>\n",
       "      <td>1</td>\n",
       "      <td>1.0</td>\n",
       "      <td>1.0</td>\n",
       "      <td>18V1</td>\n",
       "    </tr>\n",
       "    <tr>\n",
       "      <th>3</th>\n",
       "      <td>QN</td>\n",
       "      <td>6</td>\n",
       "      <td>20</td>\n",
       "      <td>402</td>\n",
       "      <td>1.0</td>\n",
       "      <td>NaN</td>\n",
       "      <td>30.0</td>\n",
       "      <td>26.0</td>\n",
       "      <td>11101.0</td>\n",
       "      <td>L115</td>\n",
       "      <td>...</td>\n",
       "      <td>NaN</td>\n",
       "      <td>401 011</td>\n",
       "      <td>40101.0</td>\n",
       "      <td>NaN</td>\n",
       "      <td>4.000060e+09</td>\n",
       "      <td>09/20/2013</td>\n",
       "      <td>1</td>\n",
       "      <td>1.0</td>\n",
       "      <td>1.0</td>\n",
       "      <td>18V1</td>\n",
       "    </tr>\n",
       "    <tr>\n",
       "      <th>4</th>\n",
       "      <td>QN</td>\n",
       "      <td>6</td>\n",
       "      <td>30</td>\n",
       "      <td>402</td>\n",
       "      <td>1.0</td>\n",
       "      <td>NaN</td>\n",
       "      <td>30.0</td>\n",
       "      <td>26.0</td>\n",
       "      <td>11101.0</td>\n",
       "      <td>L115</td>\n",
       "      <td>...</td>\n",
       "      <td>NaN</td>\n",
       "      <td>401 011</td>\n",
       "      <td>40101.0</td>\n",
       "      <td>NaN</td>\n",
       "      <td>4.000060e+09</td>\n",
       "      <td>09/08/2017</td>\n",
       "      <td>1</td>\n",
       "      <td>1.0</td>\n",
       "      <td>1.0</td>\n",
       "      <td>18V1</td>\n",
       "    </tr>\n",
       "  </tbody>\n",
       "</table>\n",
       "<p>5 rows × 87 columns</p>\n",
       "</div>"
      ],
      "text/plain": [
       "  Borough  Block  Lot   CD  CT2010  CB2010  SchoolDist  Council  ZipCode  \\\n",
       "0      QN      6    1  402     1.0     NaN        30.0     26.0  11101.0   \n",
       "1      QN      6    3  402     1.0  1015.0        30.0     26.0  11101.0   \n",
       "2      QN      6    8  402     1.0  1011.0        30.0     26.0  11101.0   \n",
       "3      QN      6   20  402     1.0     NaN        30.0     26.0  11101.0   \n",
       "4      QN      6   30  402     1.0     NaN        30.0     26.0  11101.0   \n",
       "\n",
       "  FireComp  ...  ZMCode  Sanborn   TaxMap  EDesigNum        APPBBL  \\\n",
       "0     L115  ...       Y  401 011  40101.0        NaN  4.000060e+09   \n",
       "1     L115  ...     NaN  401 011  40101.0        NaN  0.000000e+00   \n",
       "2     L115  ...     NaN  401 011  40101.0        NaN  4.000060e+09   \n",
       "3     L115  ...     NaN  401 011  40101.0        NaN  4.000060e+09   \n",
       "4     L115  ...     NaN  401 011  40101.0        NaN  4.000060e+09   \n",
       "\n",
       "      APPDate PLUTOMapID FIRM07_FLAG PFIRM15_FLAG Version  \n",
       "0  09/20/2013          1         1.0          1.0    18V1  \n",
       "1         NaN          1         1.0          1.0    18V1  \n",
       "2  08/07/2013          1         1.0          1.0    18V1  \n",
       "3  09/20/2013          1         1.0          1.0    18V1  \n",
       "4  09/08/2017          1         1.0          1.0    18V1  \n",
       "\n",
       "[5 rows x 87 columns]"
      ]
     },
     "execution_count": 6,
     "metadata": {},
     "output_type": "execute_result"
    }
   ],
   "source": [
    "df_queens = pd.read_csv('QN_18v1.csv')\n",
    "df_queens.head()"
   ]
  },
  {
   "cell_type": "markdown",
   "metadata": {},
   "source": [
    "<br>\n",
    "\n",
    "---\n",
    "\n",
    "# Quiz\n",
    "\n",
    "## Question 1\n",
    "\n",
    "The (NYC 311) dataset contains complaints logged since what date?"
   ]
  },
  {
   "cell_type": "code",
   "execution_count": 7,
   "metadata": {
    "ExecuteTime": {
     "end_time": "2021-01-30T10:52:48.836232Z",
     "start_time": "2021-01-30T10:52:48.764425Z"
    }
   },
   "outputs": [
    {
     "data": {
      "text/plain": [
       "Timestamp('2010-01-01 00:00:00')"
      ]
     },
     "execution_count": 7,
     "metadata": {},
     "output_type": "execute_result"
    }
   ],
   "source": [
    "df['Created Date'].min()"
   ]
  },
  {
   "cell_type": "markdown",
   "metadata": {},
   "source": [
    "## Question 2\n",
    "\n",
    "The (NYC 311) dataset contains complaints logged till what date?"
   ]
  },
  {
   "cell_type": "code",
   "execution_count": 8,
   "metadata": {
    "ExecuteTime": {
     "end_time": "2021-01-30T10:52:48.877127Z",
     "start_time": "2021-01-30T10:52:48.841219Z"
    }
   },
   "outputs": [
    {
     "data": {
      "text/plain": [
       "Timestamp('2020-02-02 23:58:57')"
      ]
     },
     "execution_count": 8,
     "metadata": {},
     "output_type": "execute_result"
    }
   ],
   "source": [
    "df['Created Date'].max()"
   ]
  },
  {
   "cell_type": "markdown",
   "metadata": {},
   "source": [
    "Note that the dataset contains data only until the 2nd of February.  \n",
    "\n",
    "\n",
    "## Question 3\n",
    "\n",
    "How many incidents have a missing Incident Address?"
   ]
  },
  {
   "cell_type": "code",
   "execution_count": 9,
   "metadata": {
    "ExecuteTime": {
     "end_time": "2021-01-30T10:52:49.122992Z",
     "start_time": "2021-01-30T10:52:48.881115Z"
    }
   },
   "outputs": [
    {
     "data": {
      "text/plain": [
       "52825"
      ]
     },
     "execution_count": 9,
     "metadata": {},
     "output_type": "execute_result"
    }
   ],
   "source": [
    "df['Incident Address'].isnull().sum()"
   ]
  },
  {
   "cell_type": "markdown",
   "metadata": {},
   "source": [
    "## Question 4\n",
    "\n",
    "How many valid ZIP Codes exist in the Bronx PLUTO dataset?"
   ]
  },
  {
   "cell_type": "code",
   "execution_count": 10,
   "metadata": {
    "ExecuteTime": {
     "end_time": "2021-01-30T10:52:49.135946Z",
     "start_time": "2021-01-30T10:52:49.125974Z"
    }
   },
   "outputs": [
    {
     "data": {
      "text/plain": [
       "26"
      ]
     },
     "execution_count": 10,
     "metadata": {},
     "output_type": "execute_result"
    }
   ],
   "source": [
    "len(df_bronx['ZipCode'].value_counts())"
   ]
  },
  {
   "cell_type": "markdown",
   "metadata": {},
   "source": [
    "Alternatively:"
   ]
  },
  {
   "cell_type": "code",
   "execution_count": 11,
   "metadata": {
    "ExecuteTime": {
     "end_time": "2021-01-30T10:52:49.146916Z",
     "start_time": "2021-01-30T10:52:49.137942Z"
    }
   },
   "outputs": [
    {
     "data": {
      "text/plain": [
       "26"
      ]
     },
     "execution_count": 11,
     "metadata": {},
     "output_type": "execute_result"
    }
   ],
   "source": [
    "df_bronx['ZipCode'].nunique()"
   ]
  },
  {
   "cell_type": "markdown",
   "metadata": {},
   "source": [
    "## Question 5\n",
    "\n",
    "How many valid ZIP Codes exist in the Queens PLUTO dataset?"
   ]
  },
  {
   "cell_type": "code",
   "execution_count": 12,
   "metadata": {
    "ExecuteTime": {
     "end_time": "2021-01-30T10:52:49.160883Z",
     "start_time": "2021-01-30T10:52:49.149909Z"
    }
   },
   "outputs": [
    {
     "data": {
      "text/plain": [
       "65"
      ]
     },
     "execution_count": 12,
     "metadata": {},
     "output_type": "execute_result"
    }
   ],
   "source": [
    "df_queens['ZipCode'].nunique()"
   ]
  }
 ],
 "metadata": {
  "hide_input": false,
  "kernelspec": {
   "display_name": "Python 3",
   "language": "python",
   "name": "python3"
  },
  "language_info": {
   "codemirror_mode": {
    "name": "ipython",
    "version": 3
   },
   "file_extension": ".py",
   "mimetype": "text/x-python",
   "name": "python",
   "nbconvert_exporter": "python",
   "pygments_lexer": "ipython3",
   "version": "3.6.8"
  },
  "varInspector": {
   "cols": {
    "lenName": 16,
    "lenType": 16,
    "lenVar": 40
   },
   "kernels_config": {
    "python": {
     "delete_cmd_postfix": "",
     "delete_cmd_prefix": "del ",
     "library": "var_list.py",
     "varRefreshCmd": "print(var_dic_list())"
    },
    "r": {
     "delete_cmd_postfix": ") ",
     "delete_cmd_prefix": "rm(",
     "library": "var_list.r",
     "varRefreshCmd": "cat(var_dic_list()) "
    }
   },
   "types_to_exclude": [
    "module",
    "function",
    "builtin_function_or_method",
    "instance",
    "_Feature"
   ],
   "window_display": false
  }
 },
 "nbformat": 4,
 "nbformat_minor": 2
}
