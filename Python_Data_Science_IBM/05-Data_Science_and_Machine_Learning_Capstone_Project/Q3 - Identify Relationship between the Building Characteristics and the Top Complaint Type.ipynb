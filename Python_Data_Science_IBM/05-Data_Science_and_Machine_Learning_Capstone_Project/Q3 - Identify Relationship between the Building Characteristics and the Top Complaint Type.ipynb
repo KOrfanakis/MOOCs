{
 "cells": [
  {
   "cell_type": "markdown",
   "metadata": {},
   "source": [
    "# Question 3 - Identify Relationship between the Building Characteristics and the Top Complaint Type\n",
    "\n",
    "The goal of this exercise is to find the answer to the third question of the problem statement: \n",
    "\n",
    "*Does the Complaint Type you identified in response to Question 1 have an apparent relationship with any particular characteristic or characteristics of the houses?*\n",
    "\n",
    "<br>\n",
    "\n",
    "# Introduction\n",
    "\n",
    "Again, we start by importing the necessary libraries and loading the two datasets.\n",
    "\n",
    "## Libraries"
   ]
  },
  {
   "cell_type": "code",
   "execution_count": 1,
   "metadata": {
    "ExecuteTime": {
     "end_time": "2021-01-30T11:46:23.341144Z",
     "start_time": "2021-01-30T11:46:20.682635Z"
    }
   },
   "outputs": [
    {
     "name": "stderr",
     "output_type": "stream",
     "text": [
      "C:\\Users\\ko40\\AppData\\Local\\Continuum\\anaconda3\\lib\\site-packages\\statsmodels\\tools\\_testing.py:19: FutureWarning: pandas.util.testing is deprecated. Use the functions in the public API at pandas.testing instead.\n",
      "  import pandas.util.testing as tm\n"
     ]
    }
   ],
   "source": [
    "import numpy as np\n",
    "import pandas as pd\n",
    "import geopandas as gpd\n",
    "\n",
    "from scipy import stats\n",
    "import missingno as msno\n",
    "\n",
    "import seaborn as sns\n",
    "import matplotlib.pyplot as plt\n",
    "import matplotlib.patches as mpatches\n",
    "%config InlineBackend.figure_format = 'retina'"
   ]
  },
  {
   "cell_type": "markdown",
   "metadata": {},
   "source": [
    "## Data\n",
    "\n",
    "### 311 Complaint Dataset"
   ]
  },
  {
   "cell_type": "code",
   "execution_count": 2,
   "metadata": {
    "ExecuteTime": {
     "end_time": "2021-01-30T12:02:02.009418Z",
     "start_time": "2021-01-30T11:46:23.344219Z"
    }
   },
   "outputs": [],
   "source": [
    "columns = ['Created Date', 'Unique Key', 'Complaint Type', 'Incident Zip', 'Incident Address', 'Street Name',\n",
    "           'Address Type', 'City', 'Resolution Description', 'Borough', 'Latitude', 'Longitude', 'Closed Date', \n",
    "           'Location Type', 'Status']\n",
    "\n",
    "df_311 = pd.read_csv('311_Service_Requests_from_2010_to_Present_min.csv', \n",
    "                     nrows = 1E+7, \n",
    "                     usecols = columns, \n",
    "                     parse_dates = ['Created Date', 'Closed Date'])\n",
    "\n",
    "df_311_raw = df_311.copy()\n",
    "\n",
    "df_311['Complaint Type'] = np.where(df_311['Complaint Type'] == 'HEATING','HEAT/HOT WATER', df_311['Complaint Type'])"
   ]
  },
  {
   "cell_type": "markdown",
   "metadata": {},
   "source": [
    "We need to focus on the borough with the highest number of 'HEAT/HOT WATER' reports, i.e. the Bronx. Therefore, we will create a new DataFrame containing only BRONX samples and with 'HEAT/HOT WATER' as the complaint type."
   ]
  },
  {
   "cell_type": "code",
   "execution_count": 3,
   "metadata": {
    "ExecuteTime": {
     "end_time": "2021-01-30T12:02:02.972790Z",
     "start_time": "2021-01-30T12:02:02.014405Z"
    }
   },
   "outputs": [],
   "source": [
    "df_311_BX = df_311[(df_311['Complaint Type'] == 'HEAT/HOT WATER') & (df_311['Borough'] == 'BRONX')].reset_index(drop = True)"
   ]
  },
  {
   "cell_type": "markdown",
   "metadata": {},
   "source": [
    "### PLUTO Dataset for Housing\n",
    "\n",
    "For this exercise, we also need to import the PLUTO dataset for the Bronx. "
   ]
  },
  {
   "cell_type": "code",
   "execution_count": 4,
   "metadata": {
    "ExecuteTime": {
     "end_time": "2021-01-30T12:02:03.461105Z",
     "start_time": "2021-01-30T12:02:02.975801Z"
    }
   },
   "outputs": [
    {
     "data": {
      "text/html": [
       "<div>\n",
       "<style scoped>\n",
       "    .dataframe tbody tr th:only-of-type {\n",
       "        vertical-align: middle;\n",
       "    }\n",
       "\n",
       "    .dataframe tbody tr th {\n",
       "        vertical-align: top;\n",
       "    }\n",
       "\n",
       "    .dataframe thead th {\n",
       "        text-align: right;\n",
       "    }\n",
       "</style>\n",
       "<table border=\"1\" class=\"dataframe\">\n",
       "  <thead>\n",
       "    <tr style=\"text-align: right;\">\n",
       "      <th></th>\n",
       "      <th>Lot</th>\n",
       "      <th>ZipCode</th>\n",
       "      <th>Address</th>\n",
       "      <th>LotArea</th>\n",
       "      <th>BldgArea</th>\n",
       "      <th>ResArea</th>\n",
       "      <th>OfficeArea</th>\n",
       "      <th>RetailArea</th>\n",
       "      <th>NumBldgs</th>\n",
       "      <th>NumFloors</th>\n",
       "      <th>LotDepth</th>\n",
       "      <th>BldgDepth</th>\n",
       "      <th>YearBuilt</th>\n",
       "      <th>YearAlter1</th>\n",
       "      <th>BuiltFAR</th>\n",
       "      <th>ResidFAR</th>\n",
       "      <th>CommFAR</th>\n",
       "      <th>FacilFAR</th>\n",
       "      <th>XCoord</th>\n",
       "      <th>YCoord</th>\n",
       "    </tr>\n",
       "  </thead>\n",
       "  <tbody>\n",
       "    <tr>\n",
       "      <th>0</th>\n",
       "      <td>1</td>\n",
       "      <td>10454.0</td>\n",
       "      <td>122 BRUCKNER BOULEVARD</td>\n",
       "      <td>15000</td>\n",
       "      <td>0</td>\n",
       "      <td>0</td>\n",
       "      <td>0</td>\n",
       "      <td>0</td>\n",
       "      <td>1</td>\n",
       "      <td>0.0</td>\n",
       "      <td>200.0</td>\n",
       "      <td>0.0</td>\n",
       "      <td>0</td>\n",
       "      <td>0</td>\n",
       "      <td>0.00</td>\n",
       "      <td>6.02</td>\n",
       "      <td>5.0</td>\n",
       "      <td>6.5</td>\n",
       "      <td>1005957.0</td>\n",
       "      <td>232162.0</td>\n",
       "    </tr>\n",
       "    <tr>\n",
       "      <th>1</th>\n",
       "      <td>4</td>\n",
       "      <td>10454.0</td>\n",
       "      <td>126 BRUCKNER BOULEVARD</td>\n",
       "      <td>13770</td>\n",
       "      <td>752</td>\n",
       "      <td>0</td>\n",
       "      <td>272</td>\n",
       "      <td>0</td>\n",
       "      <td>2</td>\n",
       "      <td>1.0</td>\n",
       "      <td>100.0</td>\n",
       "      <td>16.0</td>\n",
       "      <td>1931</td>\n",
       "      <td>1994</td>\n",
       "      <td>0.05</td>\n",
       "      <td>6.02</td>\n",
       "      <td>5.0</td>\n",
       "      <td>6.5</td>\n",
       "      <td>1006076.0</td>\n",
       "      <td>232156.0</td>\n",
       "    </tr>\n",
       "    <tr>\n",
       "      <th>2</th>\n",
       "      <td>10</td>\n",
       "      <td>10454.0</td>\n",
       "      <td>138 BRUCKNER BOULEVARD</td>\n",
       "      <td>35000</td>\n",
       "      <td>39375</td>\n",
       "      <td>0</td>\n",
       "      <td>0</td>\n",
       "      <td>0</td>\n",
       "      <td>1</td>\n",
       "      <td>2.0</td>\n",
       "      <td>200.0</td>\n",
       "      <td>200.0</td>\n",
       "      <td>1931</td>\n",
       "      <td>0</td>\n",
       "      <td>1.13</td>\n",
       "      <td>6.02</td>\n",
       "      <td>5.0</td>\n",
       "      <td>6.5</td>\n",
       "      <td>1006187.0</td>\n",
       "      <td>232036.0</td>\n",
       "    </tr>\n",
       "    <tr>\n",
       "      <th>3</th>\n",
       "      <td>17</td>\n",
       "      <td>10454.0</td>\n",
       "      <td>144 BRUCKNER BOULEVARD</td>\n",
       "      <td>2500</td>\n",
       "      <td>12500</td>\n",
       "      <td>12500</td>\n",
       "      <td>0</td>\n",
       "      <td>0</td>\n",
       "      <td>1</td>\n",
       "      <td>5.0</td>\n",
       "      <td>100.0</td>\n",
       "      <td>85.0</td>\n",
       "      <td>1931</td>\n",
       "      <td>2001</td>\n",
       "      <td>5.00</td>\n",
       "      <td>6.02</td>\n",
       "      <td>5.0</td>\n",
       "      <td>6.5</td>\n",
       "      <td>1006299.0</td>\n",
       "      <td>232033.0</td>\n",
       "    </tr>\n",
       "    <tr>\n",
       "      <th>4</th>\n",
       "      <td>18</td>\n",
       "      <td>10454.0</td>\n",
       "      <td>148 BRUCKNER BOULEVARD</td>\n",
       "      <td>1875</td>\n",
       "      <td>8595</td>\n",
       "      <td>6876</td>\n",
       "      <td>0</td>\n",
       "      <td>1719</td>\n",
       "      <td>1</td>\n",
       "      <td>5.0</td>\n",
       "      <td>75.0</td>\n",
       "      <td>70.0</td>\n",
       "      <td>1920</td>\n",
       "      <td>2009</td>\n",
       "      <td>4.58</td>\n",
       "      <td>6.02</td>\n",
       "      <td>5.0</td>\n",
       "      <td>6.5</td>\n",
       "      <td>1006363.0</td>\n",
       "      <td>232040.0</td>\n",
       "    </tr>\n",
       "  </tbody>\n",
       "</table>\n",
       "</div>"
      ],
      "text/plain": [
       "   Lot  ZipCode                 Address  LotArea  BldgArea  ResArea  \\\n",
       "0    1  10454.0  122 BRUCKNER BOULEVARD    15000         0        0   \n",
       "1    4  10454.0  126 BRUCKNER BOULEVARD    13770       752        0   \n",
       "2   10  10454.0  138 BRUCKNER BOULEVARD    35000     39375        0   \n",
       "3   17  10454.0  144 BRUCKNER BOULEVARD     2500     12500    12500   \n",
       "4   18  10454.0  148 BRUCKNER BOULEVARD     1875      8595     6876   \n",
       "\n",
       "   OfficeArea  RetailArea  NumBldgs  NumFloors  LotDepth  BldgDepth  \\\n",
       "0           0           0         1        0.0     200.0        0.0   \n",
       "1         272           0         2        1.0     100.0       16.0   \n",
       "2           0           0         1        2.0     200.0      200.0   \n",
       "3           0           0         1        5.0     100.0       85.0   \n",
       "4           0        1719         1        5.0      75.0       70.0   \n",
       "\n",
       "   YearBuilt  YearAlter1  BuiltFAR  ResidFAR  CommFAR  FacilFAR     XCoord  \\\n",
       "0          0           0      0.00      6.02      5.0       6.5  1005957.0   \n",
       "1       1931        1994      0.05      6.02      5.0       6.5  1006076.0   \n",
       "2       1931           0      1.13      6.02      5.0       6.5  1006187.0   \n",
       "3       1931        2001      5.00      6.02      5.0       6.5  1006299.0   \n",
       "4       1920        2009      4.58      6.02      5.0       6.5  1006363.0   \n",
       "\n",
       "     YCoord  \n",
       "0  232162.0  \n",
       "1  232156.0  \n",
       "2  232036.0  \n",
       "3  232033.0  \n",
       "4  232040.0  "
      ]
     },
     "execution_count": 4,
     "metadata": {},
     "output_type": "execute_result"
    }
   ],
   "source": [
    "columns = ['Address', 'BldgArea', 'BldgDepth', 'BuiltFAR', 'CommFAR', 'FacilFAR', 'Lot', 'LotArea', 'LotDepth', \n",
    "           'NumBldgs', 'NumFloors', 'OfficeArea', 'ResArea', 'ResidFAR', 'RetailArea', 'YearBuilt', 'YearAlter1', \n",
    "           'ZipCode', 'YCoord', 'XCoord']\n",
    "\n",
    "df_pluto_BX = pd.read_csv('BX_18v1.csv', usecols = columns)\n",
    "df_pluto_BX.head()"
   ]
  },
  {
   "cell_type": "markdown",
   "metadata": {},
   "source": [
    "# Merging the two Datasets\n",
    "\n",
    "At this stage, we need to **merge** the two datasets into one. I chose to merge them based on an instance’s address.\n",
    "\n",
    "We can use the `groupby()` method on the 311 Dataset to create a dataset with the total number of complaints about each address. We first need to drop all rows with a missing address. "
   ]
  },
  {
   "cell_type": "code",
   "execution_count": 5,
   "metadata": {
    "ExecuteTime": {
     "end_time": "2021-01-30T12:02:04.246903Z",
     "start_time": "2021-01-30T12:02:03.463098Z"
    }
   },
   "outputs": [
    {
     "name": "stdout",
     "output_type": "stream",
     "text": [
      "311 Dataset: Rows with a missing address dropped successfully!\n",
      "New 311 Dataset: 22859 rows\n"
     ]
    },
    {
     "data": {
      "text/html": [
       "<div>\n",
       "<style scoped>\n",
       "    .dataframe tbody tr th:only-of-type {\n",
       "        vertical-align: middle;\n",
       "    }\n",
       "\n",
       "    .dataframe tbody tr th {\n",
       "        vertical-align: top;\n",
       "    }\n",
       "\n",
       "    .dataframe thead th {\n",
       "        text-align: right;\n",
       "    }\n",
       "</style>\n",
       "<table border=\"1\" class=\"dataframe\">\n",
       "  <thead>\n",
       "    <tr style=\"text-align: right;\">\n",
       "      <th></th>\n",
       "      <th>Complaints #</th>\n",
       "    </tr>\n",
       "    <tr>\n",
       "      <th>Incident Address</th>\n",
       "      <th></th>\n",
       "    </tr>\n",
       "  </thead>\n",
       "  <tbody>\n",
       "    <tr>\n",
       "      <th>1 ADRIAN AVENUE</th>\n",
       "      <td>39</td>\n",
       "    </tr>\n",
       "    <tr>\n",
       "      <th>1 CAROLL STREET</th>\n",
       "      <td>18</td>\n",
       "    </tr>\n",
       "    <tr>\n",
       "      <th>1 DOROTHEA PLACE</th>\n",
       "      <td>1</td>\n",
       "    </tr>\n",
       "    <tr>\n",
       "      <th>1 EARHART LANE</th>\n",
       "      <td>2</td>\n",
       "    </tr>\n",
       "    <tr>\n",
       "      <th>1 EAST  169 STREET</th>\n",
       "      <td>1</td>\n",
       "    </tr>\n",
       "  </tbody>\n",
       "</table>\n",
       "</div>"
      ],
      "text/plain": [
       "                    Complaints #\n",
       "Incident Address                \n",
       "1 ADRIAN AVENUE               39\n",
       "1 CAROLL STREET               18\n",
       "1 DOROTHEA PLACE               1\n",
       "1 EARHART LANE                 2\n",
       "1 EAST  169 STREET             1"
      ]
     },
     "execution_count": 5,
     "metadata": {},
     "output_type": "execute_result"
    }
   ],
   "source": [
    "df_311_BX.dropna(subset = ['Incident Address'], axis = 0, inplace = True)  # drop rows with missing values\n",
    "print('311 Dataset: Rows with a missing address dropped successfully!')\n",
    "\n",
    "df_311_total = df_311_BX.groupby('Incident Address').agg('count')['Borough'].to_frame()\n",
    "df_311_total.columns = ['Complaints #']\n",
    "\n",
    "print('New 311 Dataset: {} rows'.format(df_311_total.shape[0]))\n",
    "df_311_total.head()"
   ]
  },
  {
   "cell_type": "markdown",
   "metadata": {},
   "source": [
    "The PLUTO dataset also contains missing values for 'Address'."
   ]
  },
  {
   "cell_type": "code",
   "execution_count": 6,
   "metadata": {
    "ExecuteTime": {
     "end_time": "2021-01-30T12:02:04.295772Z",
     "start_time": "2021-01-30T12:02:04.251890Z"
    }
   },
   "outputs": [
    {
     "name": "stdout",
     "output_type": "stream",
     "text": [
      "69 missing addresses in the PLUTO dataset\n",
      "PLUTO Dataset: Rows with a missing address dropped successfully!\n"
     ]
    }
   ],
   "source": [
    "print('{} missing addresses in the PLUTO dataset'.format(df_pluto_BX['Address'].isnull().sum()))\n",
    "\n",
    "df_pluto_BX.dropna(subset = ['Address'], axis = 0, inplace = True)\n",
    "print('PLUTO Dataset: Rows with a missing address dropped successfully!')"
   ]
  },
  {
   "cell_type": "markdown",
   "metadata": {
    "ExecuteTime": {
     "end_time": "2021-01-21T16:33:53.657979Z",
     "start_time": "2021-01-21T16:33:53.618028Z"
    }
   },
   "source": [
    "Apart from missing values, we also need to check if there are duplicate entries for the same address."
   ]
  },
  {
   "cell_type": "code",
   "execution_count": 7,
   "metadata": {
    "ExecuteTime": {
     "end_time": "2021-01-30T12:02:04.391027Z",
     "start_time": "2021-01-30T12:02:04.298764Z"
    }
   },
   "outputs": [
    {
     "data": {
      "text/plain": [
       "SHORE DRIVE               42\n",
       "PALISADE AVENUE           37\n",
       "WHITE PLAINS ROAD         35\n",
       "PARK AVENUE               35\n",
       "BRUCKNER BOULEVARD        34\n",
       "                          ..\n",
       "3481 BOSTON ROAD           1\n",
       "4127 MONTICELLO AVENUE     1\n",
       "3817 3 AVENUE              1\n",
       "2739 MORGAN AVENUE         1\n",
       "2115 WALTON AVENUE         1\n",
       "Name: Address, Length: 87017, dtype: int64"
      ]
     },
     "execution_count": 7,
     "metadata": {},
     "output_type": "execute_result"
    }
   ],
   "source": [
    "df_pluto_BX['Address'].value_counts() "
   ]
  },
  {
   "cell_type": "markdown",
   "metadata": {},
   "source": [
    "There are indeed duplicate addresses. We need to remove them before proceeding. "
   ]
  },
  {
   "cell_type": "code",
   "execution_count": 8,
   "metadata": {
    "ExecuteTime": {
     "end_time": "2021-01-30T12:02:04.443883Z",
     "start_time": "2021-01-30T12:02:04.395018Z"
    }
   },
   "outputs": [
    {
     "name": "stdout",
     "output_type": "stream",
     "text": [
      "PLUTO Dataset: Duplicate addresses dropped successfully!\n",
      "New PLUTO Dataset: 87017 rows x 20 columns\n"
     ]
    }
   ],
   "source": [
    "df_pluto_BX.drop_duplicates(subset = 'Address', keep = 'first', inplace = True)\n",
    "\n",
    "print('PLUTO Dataset: Duplicate addresses dropped successfully!')\n",
    "print('New PLUTO Dataset: {} rows x {} columns'.format(df_pluto_BX.shape[0], df_pluto_BX.shape[1]))"
   ]
  },
  {
   "cell_type": "markdown",
   "metadata": {},
   "source": [
    "<br>\n",
    "\n",
    "The two datasets have a different number of rows. Since the PLUTO dataset has more entries/addresses (87017 compared to only 22859 for the 311 Dataset), some rows will contain NaN values for the 'Complaints #' column. \n",
    "\n",
    "We are now ready to merge the two datasets:"
   ]
  },
  {
   "cell_type": "code",
   "execution_count": 9,
   "metadata": {
    "ExecuteTime": {
     "end_time": "2021-01-30T12:02:04.537633Z",
     "start_time": "2021-01-30T12:02:04.446877Z"
    }
   },
   "outputs": [
    {
     "name": "stdout",
     "output_type": "stream",
     "text": [
      "The merged dataset has 87017 rows x 21 columns.\n"
     ]
    },
    {
     "data": {
      "text/html": [
       "<div>\n",
       "<style scoped>\n",
       "    .dataframe tbody tr th:only-of-type {\n",
       "        vertical-align: middle;\n",
       "    }\n",
       "\n",
       "    .dataframe tbody tr th {\n",
       "        vertical-align: top;\n",
       "    }\n",
       "\n",
       "    .dataframe thead th {\n",
       "        text-align: right;\n",
       "    }\n",
       "</style>\n",
       "<table border=\"1\" class=\"dataframe\">\n",
       "  <thead>\n",
       "    <tr style=\"text-align: right;\">\n",
       "      <th></th>\n",
       "      <th>Complaints #</th>\n",
       "      <th>Lot</th>\n",
       "      <th>ZipCode</th>\n",
       "      <th>Address</th>\n",
       "      <th>LotArea</th>\n",
       "      <th>BldgArea</th>\n",
       "      <th>ResArea</th>\n",
       "      <th>OfficeArea</th>\n",
       "      <th>RetailArea</th>\n",
       "      <th>NumBldgs</th>\n",
       "      <th>...</th>\n",
       "      <th>LotDepth</th>\n",
       "      <th>BldgDepth</th>\n",
       "      <th>YearBuilt</th>\n",
       "      <th>YearAlter1</th>\n",
       "      <th>BuiltFAR</th>\n",
       "      <th>ResidFAR</th>\n",
       "      <th>CommFAR</th>\n",
       "      <th>FacilFAR</th>\n",
       "      <th>XCoord</th>\n",
       "      <th>YCoord</th>\n",
       "    </tr>\n",
       "  </thead>\n",
       "  <tbody>\n",
       "    <tr>\n",
       "      <th>0</th>\n",
       "      <td>NaN</td>\n",
       "      <td>1</td>\n",
       "      <td>10454.0</td>\n",
       "      <td>122 BRUCKNER BOULEVARD</td>\n",
       "      <td>15000</td>\n",
       "      <td>0</td>\n",
       "      <td>0</td>\n",
       "      <td>0</td>\n",
       "      <td>0</td>\n",
       "      <td>1</td>\n",
       "      <td>...</td>\n",
       "      <td>200.0</td>\n",
       "      <td>0.0</td>\n",
       "      <td>0</td>\n",
       "      <td>0</td>\n",
       "      <td>0.00</td>\n",
       "      <td>6.02</td>\n",
       "      <td>5.0</td>\n",
       "      <td>6.5</td>\n",
       "      <td>1005957.0</td>\n",
       "      <td>232162.0</td>\n",
       "    </tr>\n",
       "    <tr>\n",
       "      <th>1</th>\n",
       "      <td>NaN</td>\n",
       "      <td>4</td>\n",
       "      <td>10454.0</td>\n",
       "      <td>126 BRUCKNER BOULEVARD</td>\n",
       "      <td>13770</td>\n",
       "      <td>752</td>\n",
       "      <td>0</td>\n",
       "      <td>272</td>\n",
       "      <td>0</td>\n",
       "      <td>2</td>\n",
       "      <td>...</td>\n",
       "      <td>100.0</td>\n",
       "      <td>16.0</td>\n",
       "      <td>1931</td>\n",
       "      <td>1994</td>\n",
       "      <td>0.05</td>\n",
       "      <td>6.02</td>\n",
       "      <td>5.0</td>\n",
       "      <td>6.5</td>\n",
       "      <td>1006076.0</td>\n",
       "      <td>232156.0</td>\n",
       "    </tr>\n",
       "    <tr>\n",
       "      <th>2</th>\n",
       "      <td>NaN</td>\n",
       "      <td>10</td>\n",
       "      <td>10454.0</td>\n",
       "      <td>138 BRUCKNER BOULEVARD</td>\n",
       "      <td>35000</td>\n",
       "      <td>39375</td>\n",
       "      <td>0</td>\n",
       "      <td>0</td>\n",
       "      <td>0</td>\n",
       "      <td>1</td>\n",
       "      <td>...</td>\n",
       "      <td>200.0</td>\n",
       "      <td>200.0</td>\n",
       "      <td>1931</td>\n",
       "      <td>0</td>\n",
       "      <td>1.13</td>\n",
       "      <td>6.02</td>\n",
       "      <td>5.0</td>\n",
       "      <td>6.5</td>\n",
       "      <td>1006187.0</td>\n",
       "      <td>232036.0</td>\n",
       "    </tr>\n",
       "    <tr>\n",
       "      <th>3</th>\n",
       "      <td>5.0</td>\n",
       "      <td>17</td>\n",
       "      <td>10454.0</td>\n",
       "      <td>144 BRUCKNER BOULEVARD</td>\n",
       "      <td>2500</td>\n",
       "      <td>12500</td>\n",
       "      <td>12500</td>\n",
       "      <td>0</td>\n",
       "      <td>0</td>\n",
       "      <td>1</td>\n",
       "      <td>...</td>\n",
       "      <td>100.0</td>\n",
       "      <td>85.0</td>\n",
       "      <td>1931</td>\n",
       "      <td>2001</td>\n",
       "      <td>5.00</td>\n",
       "      <td>6.02</td>\n",
       "      <td>5.0</td>\n",
       "      <td>6.5</td>\n",
       "      <td>1006299.0</td>\n",
       "      <td>232033.0</td>\n",
       "    </tr>\n",
       "    <tr>\n",
       "      <th>4</th>\n",
       "      <td>13.0</td>\n",
       "      <td>18</td>\n",
       "      <td>10454.0</td>\n",
       "      <td>148 BRUCKNER BOULEVARD</td>\n",
       "      <td>1875</td>\n",
       "      <td>8595</td>\n",
       "      <td>6876</td>\n",
       "      <td>0</td>\n",
       "      <td>1719</td>\n",
       "      <td>1</td>\n",
       "      <td>...</td>\n",
       "      <td>75.0</td>\n",
       "      <td>70.0</td>\n",
       "      <td>1920</td>\n",
       "      <td>2009</td>\n",
       "      <td>4.58</td>\n",
       "      <td>6.02</td>\n",
       "      <td>5.0</td>\n",
       "      <td>6.5</td>\n",
       "      <td>1006363.0</td>\n",
       "      <td>232040.0</td>\n",
       "    </tr>\n",
       "  </tbody>\n",
       "</table>\n",
       "<p>5 rows × 21 columns</p>\n",
       "</div>"
      ],
      "text/plain": [
       "   Complaints #  Lot  ZipCode                 Address  LotArea  BldgArea  \\\n",
       "0           NaN    1  10454.0  122 BRUCKNER BOULEVARD    15000         0   \n",
       "1           NaN    4  10454.0  126 BRUCKNER BOULEVARD    13770       752   \n",
       "2           NaN   10  10454.0  138 BRUCKNER BOULEVARD    35000     39375   \n",
       "3           5.0   17  10454.0  144 BRUCKNER BOULEVARD     2500     12500   \n",
       "4          13.0   18  10454.0  148 BRUCKNER BOULEVARD     1875      8595   \n",
       "\n",
       "   ResArea  OfficeArea  RetailArea  NumBldgs  ...  LotDepth  BldgDepth  \\\n",
       "0        0           0           0         1  ...     200.0        0.0   \n",
       "1        0         272           0         2  ...     100.0       16.0   \n",
       "2        0           0           0         1  ...     200.0      200.0   \n",
       "3    12500           0           0         1  ...     100.0       85.0   \n",
       "4     6876           0        1719         1  ...      75.0       70.0   \n",
       "\n",
       "   YearBuilt  YearAlter1  BuiltFAR  ResidFAR  CommFAR  FacilFAR     XCoord  \\\n",
       "0          0           0      0.00      6.02      5.0       6.5  1005957.0   \n",
       "1       1931        1994      0.05      6.02      5.0       6.5  1006076.0   \n",
       "2       1931           0      1.13      6.02      5.0       6.5  1006187.0   \n",
       "3       1931        2001      5.00      6.02      5.0       6.5  1006299.0   \n",
       "4       1920        2009      4.58      6.02      5.0       6.5  1006363.0   \n",
       "\n",
       "     YCoord  \n",
       "0  232162.0  \n",
       "1  232156.0  \n",
       "2  232036.0  \n",
       "3  232033.0  \n",
       "4  232040.0  \n",
       "\n",
       "[5 rows x 21 columns]"
      ]
     },
     "execution_count": 9,
     "metadata": {},
     "output_type": "execute_result"
    }
   ],
   "source": [
    "df_merged = pd.merge(df_311_total, df_pluto_BX, right_on = 'Address', left_index = True, how = 'right')\n",
    "\n",
    "print('The merged dataset has {} rows x {} columns.'.format(df_merged.shape[0], df_merged.shape[1]))\n",
    "df_merged.head()"
   ]
  },
  {
   "cell_type": "markdown",
   "metadata": {},
   "source": [
    "We will save the merged dataset as a separate CSV file and use it for the final problem."
   ]
  },
  {
   "cell_type": "code",
   "execution_count": 10,
   "metadata": {
    "ExecuteTime": {
     "end_time": "2021-01-30T12:02:04.544614Z",
     "start_time": "2021-01-30T12:02:04.540625Z"
    }
   },
   "outputs": [],
   "source": [
    "df_merged.to_csv('Merged_dataset.csv')"
   ]
  },
  {
   "cell_type": "markdown",
   "metadata": {},
   "source": [
    "# Looking for Correlations\n",
    "\n",
    "Let’s look at how much each attribute correlates with the number of complaints. \n",
    "\n",
    "## Pearson’s Correlation\n",
    "\n",
    "We will initially use Pearson’s correlation which measures linear correlations."
   ]
  },
  {
   "cell_type": "code",
   "execution_count": 11,
   "metadata": {
    "ExecuteTime": {
     "end_time": "2021-01-30T12:02:05.558937Z",
     "start_time": "2021-01-30T12:02:04.550598Z"
    }
   },
   "outputs": [
    {
     "data": {
      "text/html": [
       "<style  type=\"text/css\" >\n",
       "#T_f87dbd98_62f2_11eb_bc99_94d48ee7597frow0_col0{\n",
       "            background-color:  #67000d;\n",
       "            color:  #f1f1f1;\n",
       "        }#T_f87dbd98_62f2_11eb_bc99_94d48ee7597frow1_col0{\n",
       "            background-color:  #fca689;\n",
       "            color:  #000000;\n",
       "        }#T_f87dbd98_62f2_11eb_bc99_94d48ee7597frow2_col0{\n",
       "            background-color:  #fcb499;\n",
       "            color:  #000000;\n",
       "        }#T_f87dbd98_62f2_11eb_bc99_94d48ee7597frow3_col0{\n",
       "            background-color:  #fcbfa7;\n",
       "            color:  #000000;\n",
       "        }#T_f87dbd98_62f2_11eb_bc99_94d48ee7597frow4_col0{\n",
       "            background-color:  #fcc1a8;\n",
       "            color:  #000000;\n",
       "        }#T_f87dbd98_62f2_11eb_bc99_94d48ee7597frow5_col0{\n",
       "            background-color:  #fcc3ab;\n",
       "            color:  #000000;\n",
       "        }#T_f87dbd98_62f2_11eb_bc99_94d48ee7597frow6_col0{\n",
       "            background-color:  #fdc5ae;\n",
       "            color:  #000000;\n",
       "        }#T_f87dbd98_62f2_11eb_bc99_94d48ee7597frow7_col0{\n",
       "            background-color:  #fdc7b2;\n",
       "            color:  #000000;\n",
       "        }#T_f87dbd98_62f2_11eb_bc99_94d48ee7597frow8_col0{\n",
       "            background-color:  #fdd5c4;\n",
       "            color:  #000000;\n",
       "        }#T_f87dbd98_62f2_11eb_bc99_94d48ee7597frow9_col0{\n",
       "            background-color:  #fedaca;\n",
       "            color:  #000000;\n",
       "        }#T_f87dbd98_62f2_11eb_bc99_94d48ee7597frow10_col0{\n",
       "            background-color:  #fee0d2;\n",
       "            color:  #000000;\n",
       "        }#T_f87dbd98_62f2_11eb_bc99_94d48ee7597frow11_col0{\n",
       "            background-color:  #fee3d6;\n",
       "            color:  #000000;\n",
       "        }#T_f87dbd98_62f2_11eb_bc99_94d48ee7597frow12_col0{\n",
       "            background-color:  #fee4d8;\n",
       "            color:  #000000;\n",
       "        }#T_f87dbd98_62f2_11eb_bc99_94d48ee7597frow13_col0{\n",
       "            background-color:  #fee5d8;\n",
       "            color:  #000000;\n",
       "        }#T_f87dbd98_62f2_11eb_bc99_94d48ee7597frow14_col0{\n",
       "            background-color:  #fee5d9;\n",
       "            color:  #000000;\n",
       "        }#T_f87dbd98_62f2_11eb_bc99_94d48ee7597frow15_col0{\n",
       "            background-color:  #fee6da;\n",
       "            color:  #000000;\n",
       "        }#T_f87dbd98_62f2_11eb_bc99_94d48ee7597frow16_col0{\n",
       "            background-color:  #fee7db;\n",
       "            color:  #000000;\n",
       "        }#T_f87dbd98_62f2_11eb_bc99_94d48ee7597frow17_col0{\n",
       "            background-color:  #fee8dd;\n",
       "            color:  #000000;\n",
       "        }#T_f87dbd98_62f2_11eb_bc99_94d48ee7597frow18_col0{\n",
       "            background-color:  #ffefe8;\n",
       "            color:  #000000;\n",
       "        }#T_f87dbd98_62f2_11eb_bc99_94d48ee7597frow19_col0{\n",
       "            background-color:  #fff5f0;\n",
       "            color:  #000000;\n",
       "        }</style><table id=\"T_f87dbd98_62f2_11eb_bc99_94d48ee7597f\" ><thead>    <tr>        <th class=\"blank level0\" ></th>        <th class=\"col_heading level0 col0\" >Complaints #</th>    </tr></thead><tbody>\n",
       "                <tr>\n",
       "                        <th id=\"T_f87dbd98_62f2_11eb_bc99_94d48ee7597flevel0_row0\" class=\"row_heading level0 row0\" >Complaints #</th>\n",
       "                        <td id=\"T_f87dbd98_62f2_11eb_bc99_94d48ee7597frow0_col0\" class=\"data row0 col0\" >1.000000</td>\n",
       "            </tr>\n",
       "            <tr>\n",
       "                        <th id=\"T_f87dbd98_62f2_11eb_bc99_94d48ee7597flevel0_row1\" class=\"row_heading level0 row1\" >NumFloors</th>\n",
       "                        <td id=\"T_f87dbd98_62f2_11eb_bc99_94d48ee7597frow1_col0\" class=\"data row1 col0\" >0.241584</td>\n",
       "            </tr>\n",
       "            <tr>\n",
       "                        <th id=\"T_f87dbd98_62f2_11eb_bc99_94d48ee7597flevel0_row2\" class=\"row_heading level0 row2\" >BldgDepth</th>\n",
       "                        <td id=\"T_f87dbd98_62f2_11eb_bc99_94d48ee7597frow2_col0\" class=\"data row2 col0\" >0.194447</td>\n",
       "            </tr>\n",
       "            <tr>\n",
       "                        <th id=\"T_f87dbd98_62f2_11eb_bc99_94d48ee7597flevel0_row3\" class=\"row_heading level0 row3\" >BuiltFAR</th>\n",
       "                        <td id=\"T_f87dbd98_62f2_11eb_bc99_94d48ee7597frow3_col0\" class=\"data row3 col0\" >0.157420</td>\n",
       "            </tr>\n",
       "            <tr>\n",
       "                        <th id=\"T_f87dbd98_62f2_11eb_bc99_94d48ee7597flevel0_row4\" class=\"row_heading level0 row4\" >ResidFAR</th>\n",
       "                        <td id=\"T_f87dbd98_62f2_11eb_bc99_94d48ee7597frow4_col0\" class=\"data row4 col0\" >0.149474</td>\n",
       "            </tr>\n",
       "            <tr>\n",
       "                        <th id=\"T_f87dbd98_62f2_11eb_bc99_94d48ee7597flevel0_row5\" class=\"row_heading level0 row5\" >ResArea</th>\n",
       "                        <td id=\"T_f87dbd98_62f2_11eb_bc99_94d48ee7597frow5_col0\" class=\"data row5 col0\" >0.140688</td>\n",
       "            </tr>\n",
       "            <tr>\n",
       "                        <th id=\"T_f87dbd98_62f2_11eb_bc99_94d48ee7597flevel0_row6\" class=\"row_heading level0 row6\" >FacilFAR</th>\n",
       "                        <td id=\"T_f87dbd98_62f2_11eb_bc99_94d48ee7597frow6_col0\" class=\"data row6 col0\" >0.133405</td>\n",
       "            </tr>\n",
       "            <tr>\n",
       "                        <th id=\"T_f87dbd98_62f2_11eb_bc99_94d48ee7597flevel0_row7\" class=\"row_heading level0 row7\" >BldgArea</th>\n",
       "                        <td id=\"T_f87dbd98_62f2_11eb_bc99_94d48ee7597frow7_col0\" class=\"data row7 col0\" >0.124686</td>\n",
       "            </tr>\n",
       "            <tr>\n",
       "                        <th id=\"T_f87dbd98_62f2_11eb_bc99_94d48ee7597flevel0_row8\" class=\"row_heading level0 row8\" >LotDepth</th>\n",
       "                        <td id=\"T_f87dbd98_62f2_11eb_bc99_94d48ee7597frow8_col0\" class=\"data row8 col0\" >0.073788</td>\n",
       "            </tr>\n",
       "            <tr>\n",
       "                        <th id=\"T_f87dbd98_62f2_11eb_bc99_94d48ee7597flevel0_row9\" class=\"row_heading level0 row9\" >YearAlter1</th>\n",
       "                        <td id=\"T_f87dbd98_62f2_11eb_bc99_94d48ee7597frow9_col0\" class=\"data row9 col0\" >0.058181</td>\n",
       "            </tr>\n",
       "            <tr>\n",
       "                        <th id=\"T_f87dbd98_62f2_11eb_bc99_94d48ee7597flevel0_row10\" class=\"row_heading level0 row10\" >LotArea</th>\n",
       "                        <td id=\"T_f87dbd98_62f2_11eb_bc99_94d48ee7597frow10_col0\" class=\"data row10 col0\" >0.033983</td>\n",
       "            </tr>\n",
       "            <tr>\n",
       "                        <th id=\"T_f87dbd98_62f2_11eb_bc99_94d48ee7597flevel0_row11\" class=\"row_heading level0 row11\" >RetailArea</th>\n",
       "                        <td id=\"T_f87dbd98_62f2_11eb_bc99_94d48ee7597frow11_col0\" class=\"data row11 col0\" >0.016226</td>\n",
       "            </tr>\n",
       "            <tr>\n",
       "                        <th id=\"T_f87dbd98_62f2_11eb_bc99_94d48ee7597flevel0_row12\" class=\"row_heading level0 row12\" >YearBuilt</th>\n",
       "                        <td id=\"T_f87dbd98_62f2_11eb_bc99_94d48ee7597frow12_col0\" class=\"data row12 col0\" >0.008108</td>\n",
       "            </tr>\n",
       "            <tr>\n",
       "                        <th id=\"T_f87dbd98_62f2_11eb_bc99_94d48ee7597flevel0_row13\" class=\"row_heading level0 row13\" >YCoord</th>\n",
       "                        <td id=\"T_f87dbd98_62f2_11eb_bc99_94d48ee7597frow13_col0\" class=\"data row13 col0\" >0.003650</td>\n",
       "            </tr>\n",
       "            <tr>\n",
       "                        <th id=\"T_f87dbd98_62f2_11eb_bc99_94d48ee7597flevel0_row14\" class=\"row_heading level0 row14\" >Lot</th>\n",
       "                        <td id=\"T_f87dbd98_62f2_11eb_bc99_94d48ee7597frow14_col0\" class=\"data row14 col0\" >-0.000497</td>\n",
       "            </tr>\n",
       "            <tr>\n",
       "                        <th id=\"T_f87dbd98_62f2_11eb_bc99_94d48ee7597flevel0_row15\" class=\"row_heading level0 row15\" >OfficeArea</th>\n",
       "                        <td id=\"T_f87dbd98_62f2_11eb_bc99_94d48ee7597frow15_col0\" class=\"data row15 col0\" >-0.005427</td>\n",
       "            </tr>\n",
       "            <tr>\n",
       "                        <th id=\"T_f87dbd98_62f2_11eb_bc99_94d48ee7597flevel0_row16\" class=\"row_heading level0 row16\" >CommFAR</th>\n",
       "                        <td id=\"T_f87dbd98_62f2_11eb_bc99_94d48ee7597frow16_col0\" class=\"data row16 col0\" >-0.008620</td>\n",
       "            </tr>\n",
       "            <tr>\n",
       "                        <th id=\"T_f87dbd98_62f2_11eb_bc99_94d48ee7597flevel0_row17\" class=\"row_heading level0 row17\" >NumBldgs</th>\n",
       "                        <td id=\"T_f87dbd98_62f2_11eb_bc99_94d48ee7597frow17_col0\" class=\"data row17 col0\" >-0.017986</td>\n",
       "            </tr>\n",
       "            <tr>\n",
       "                        <th id=\"T_f87dbd98_62f2_11eb_bc99_94d48ee7597flevel0_row18\" class=\"row_heading level0 row18\" >ZipCode</th>\n",
       "                        <td id=\"T_f87dbd98_62f2_11eb_bc99_94d48ee7597frow18_col0\" class=\"data row18 col0\" >-0.066512</td>\n",
       "            </tr>\n",
       "            <tr>\n",
       "                        <th id=\"T_f87dbd98_62f2_11eb_bc99_94d48ee7597flevel0_row19\" class=\"row_heading level0 row19\" >XCoord</th>\n",
       "                        <td id=\"T_f87dbd98_62f2_11eb_bc99_94d48ee7597frow19_col0\" class=\"data row19 col0\" >-0.105868</td>\n",
       "            </tr>\n",
       "    </tbody></table>"
      ],
      "text/plain": [
       "<pandas.io.formats.style.Styler at 0x1e0a8e22d68>"
      ]
     },
     "metadata": {},
     "output_type": "display_data"
    }
   ],
   "source": [
    "corr_p = df_merged.corr()['Complaints #'].sort_values(ascending = False)\n",
    "\n",
    "display(corr_p.to_frame().style.background_gradient(cmap = 'Reds', axis = 0))"
   ]
  },
  {
   "cell_type": "markdown",
   "metadata": {},
   "source": [
    "We notice only a **weak positive linear correlation** (absolute correlation coefficient ~ 0.20) with **two features**: 'NumFloors' and 'BldgDepth'.\n",
    "\n",
    "\n",
    "## Spearman’s Correlation\n",
    "\n",
    "After a post in the discussion section, I also decided to use Spearman's correlation coefficient. It assesses how well the relationship between two variables can be described using a monotonic function."
   ]
  },
  {
   "cell_type": "code",
   "execution_count": 12,
   "metadata": {
    "ExecuteTime": {
     "end_time": "2021-01-30T12:02:06.841556Z",
     "start_time": "2021-01-30T12:02:05.561927Z"
    }
   },
   "outputs": [
    {
     "data": {
      "text/html": [
       "<style  type=\"text/css\" >\n",
       "#T_f94199b8_62f2_11eb_b0f1_94d48ee7597frow0_col0{\n",
       "            background-color:  #67000d;\n",
       "            color:  #f1f1f1;\n",
       "        }#T_f94199b8_62f2_11eb_b0f1_94d48ee7597frow1_col0{\n",
       "            background-color:  #db2824;\n",
       "            color:  #f1f1f1;\n",
       "        }#T_f94199b8_62f2_11eb_b0f1_94d48ee7597frow2_col0,#T_f94199b8_62f2_11eb_b0f1_94d48ee7597frow3_col0{\n",
       "            background-color:  #e32f27;\n",
       "            color:  #f1f1f1;\n",
       "        }#T_f94199b8_62f2_11eb_b0f1_94d48ee7597frow4_col0{\n",
       "            background-color:  #e53228;\n",
       "            color:  #f1f1f1;\n",
       "        }#T_f94199b8_62f2_11eb_b0f1_94d48ee7597frow5_col0{\n",
       "            background-color:  #f14432;\n",
       "            color:  #f1f1f1;\n",
       "        }#T_f94199b8_62f2_11eb_b0f1_94d48ee7597frow6_col0{\n",
       "            background-color:  #f6563d;\n",
       "            color:  #000000;\n",
       "        }#T_f94199b8_62f2_11eb_b0f1_94d48ee7597frow7_col0{\n",
       "            background-color:  #fb7151;\n",
       "            color:  #000000;\n",
       "        }#T_f94199b8_62f2_11eb_b0f1_94d48ee7597frow8_col0{\n",
       "            background-color:  #fb7757;\n",
       "            color:  #000000;\n",
       "        }#T_f94199b8_62f2_11eb_b0f1_94d48ee7597frow9_col0{\n",
       "            background-color:  #fc9b7c;\n",
       "            color:  #000000;\n",
       "        }#T_f94199b8_62f2_11eb_b0f1_94d48ee7597frow10_col0{\n",
       "            background-color:  #fca588;\n",
       "            color:  #000000;\n",
       "        }#T_f94199b8_62f2_11eb_b0f1_94d48ee7597frow11_col0{\n",
       "            background-color:  #fca98c;\n",
       "            color:  #000000;\n",
       "        }#T_f94199b8_62f2_11eb_b0f1_94d48ee7597frow12_col0{\n",
       "            background-color:  #fcc1a8;\n",
       "            color:  #000000;\n",
       "        }#T_f94199b8_62f2_11eb_b0f1_94d48ee7597frow13_col0{\n",
       "            background-color:  #fdcab5;\n",
       "            color:  #000000;\n",
       "        }#T_f94199b8_62f2_11eb_b0f1_94d48ee7597frow14_col0{\n",
       "            background-color:  #fdcebb;\n",
       "            color:  #000000;\n",
       "        }#T_f94199b8_62f2_11eb_b0f1_94d48ee7597frow15_col0{\n",
       "            background-color:  #fdd2bf;\n",
       "            color:  #000000;\n",
       "        }#T_f94199b8_62f2_11eb_b0f1_94d48ee7597frow16_col0{\n",
       "            background-color:  #fed8c7;\n",
       "            color:  #000000;\n",
       "        }#T_f94199b8_62f2_11eb_b0f1_94d48ee7597frow17_col0{\n",
       "            background-color:  #fedfd0;\n",
       "            color:  #000000;\n",
       "        }#T_f94199b8_62f2_11eb_b0f1_94d48ee7597frow18_col0{\n",
       "            background-color:  #feeae0;\n",
       "            color:  #000000;\n",
       "        }#T_f94199b8_62f2_11eb_b0f1_94d48ee7597frow19_col0{\n",
       "            background-color:  #fff5f0;\n",
       "            color:  #000000;\n",
       "        }</style><table id=\"T_f94199b8_62f2_11eb_b0f1_94d48ee7597f\" ><thead>    <tr>        <th class=\"blank level0\" ></th>        <th class=\"col_heading level0 col0\" >Complaints #</th>    </tr></thead><tbody>\n",
       "                <tr>\n",
       "                        <th id=\"T_f94199b8_62f2_11eb_b0f1_94d48ee7597flevel0_row0\" class=\"row_heading level0 row0\" >Complaints #</th>\n",
       "                        <td id=\"T_f94199b8_62f2_11eb_b0f1_94d48ee7597frow0_col0\" class=\"data row0 col0\" >1.000000</td>\n",
       "            </tr>\n",
       "            <tr>\n",
       "                        <th id=\"T_f94199b8_62f2_11eb_b0f1_94d48ee7597flevel0_row1\" class=\"row_heading level0 row1\" >ResArea</th>\n",
       "                        <td id=\"T_f94199b8_62f2_11eb_b0f1_94d48ee7597frow1_col0\" class=\"data row1 col0\" >0.608828</td>\n",
       "            </tr>\n",
       "            <tr>\n",
       "                        <th id=\"T_f94199b8_62f2_11eb_b0f1_94d48ee7597flevel0_row2\" class=\"row_heading level0 row2\" >NumFloors</th>\n",
       "                        <td id=\"T_f94199b8_62f2_11eb_b0f1_94d48ee7597frow2_col0\" class=\"data row2 col0\" >0.574655</td>\n",
       "            </tr>\n",
       "            <tr>\n",
       "                        <th id=\"T_f94199b8_62f2_11eb_b0f1_94d48ee7597flevel0_row3\" class=\"row_heading level0 row3\" >BuiltFAR</th>\n",
       "                        <td id=\"T_f94199b8_62f2_11eb_b0f1_94d48ee7597frow3_col0\" class=\"data row3 col0\" >0.573750</td>\n",
       "            </tr>\n",
       "            <tr>\n",
       "                        <th id=\"T_f94199b8_62f2_11eb_b0f1_94d48ee7597flevel0_row4\" class=\"row_heading level0 row4\" >BldgArea</th>\n",
       "                        <td id=\"T_f94199b8_62f2_11eb_b0f1_94d48ee7597frow4_col0\" class=\"data row4 col0\" >0.566010</td>\n",
       "            </tr>\n",
       "            <tr>\n",
       "                        <th id=\"T_f94199b8_62f2_11eb_b0f1_94d48ee7597flevel0_row5\" class=\"row_heading level0 row5\" >BldgDepth</th>\n",
       "                        <td id=\"T_f94199b8_62f2_11eb_b0f1_94d48ee7597frow5_col0\" class=\"data row5 col0\" >0.487732</td>\n",
       "            </tr>\n",
       "            <tr>\n",
       "                        <th id=\"T_f94199b8_62f2_11eb_b0f1_94d48ee7597flevel0_row6\" class=\"row_heading level0 row6\" >LotArea</th>\n",
       "                        <td id=\"T_f94199b8_62f2_11eb_b0f1_94d48ee7597frow6_col0\" class=\"data row6 col0\" >0.431083</td>\n",
       "            </tr>\n",
       "            <tr>\n",
       "                        <th id=\"T_f94199b8_62f2_11eb_b0f1_94d48ee7597flevel0_row7\" class=\"row_heading level0 row7\" >ResidFAR</th>\n",
       "                        <td id=\"T_f94199b8_62f2_11eb_b0f1_94d48ee7597frow7_col0\" class=\"data row7 col0\" >0.334257</td>\n",
       "            </tr>\n",
       "            <tr>\n",
       "                        <th id=\"T_f94199b8_62f2_11eb_b0f1_94d48ee7597flevel0_row8\" class=\"row_heading level0 row8\" >FacilFAR</th>\n",
       "                        <td id=\"T_f94199b8_62f2_11eb_b0f1_94d48ee7597frow8_col0\" class=\"data row8 col0\" >0.311694</td>\n",
       "            </tr>\n",
       "            <tr>\n",
       "                        <th id=\"T_f94199b8_62f2_11eb_b0f1_94d48ee7597flevel0_row9\" class=\"row_heading level0 row9\" >YearAlter1</th>\n",
       "                        <td id=\"T_f94199b8_62f2_11eb_b0f1_94d48ee7597frow9_col0\" class=\"data row9 col0\" >0.171683</td>\n",
       "            </tr>\n",
       "            <tr>\n",
       "                        <th id=\"T_f94199b8_62f2_11eb_b0f1_94d48ee7597flevel0_row10\" class=\"row_heading level0 row10\" >RetailArea</th>\n",
       "                        <td id=\"T_f94199b8_62f2_11eb_b0f1_94d48ee7597frow10_col0\" class=\"data row10 col0\" >0.131621</td>\n",
       "            </tr>\n",
       "            <tr>\n",
       "                        <th id=\"T_f94199b8_62f2_11eb_b0f1_94d48ee7597flevel0_row11\" class=\"row_heading level0 row11\" >LotDepth</th>\n",
       "                        <td id=\"T_f94199b8_62f2_11eb_b0f1_94d48ee7597frow11_col0\" class=\"data row11 col0\" >0.116028</td>\n",
       "            </tr>\n",
       "            <tr>\n",
       "                        <th id=\"T_f94199b8_62f2_11eb_b0f1_94d48ee7597flevel0_row12\" class=\"row_heading level0 row12\" >OfficeArea</th>\n",
       "                        <td id=\"T_f94199b8_62f2_11eb_b0f1_94d48ee7597frow12_col0\" class=\"data row12 col0\" >0.017805</td>\n",
       "            </tr>\n",
       "            <tr>\n",
       "                        <th id=\"T_f94199b8_62f2_11eb_b0f1_94d48ee7597flevel0_row13\" class=\"row_heading level0 row13\" >CommFAR</th>\n",
       "                        <td id=\"T_f94199b8_62f2_11eb_b0f1_94d48ee7597frow13_col0\" class=\"data row13 col0\" >-0.019582</td>\n",
       "            </tr>\n",
       "            <tr>\n",
       "                        <th id=\"T_f94199b8_62f2_11eb_b0f1_94d48ee7597flevel0_row14\" class=\"row_heading level0 row14\" >YCoord</th>\n",
       "                        <td id=\"T_f94199b8_62f2_11eb_b0f1_94d48ee7597frow14_col0\" class=\"data row14 col0\" >-0.041049</td>\n",
       "            </tr>\n",
       "            <tr>\n",
       "                        <th id=\"T_f94199b8_62f2_11eb_b0f1_94d48ee7597flevel0_row15\" class=\"row_heading level0 row15\" >Lot</th>\n",
       "                        <td id=\"T_f94199b8_62f2_11eb_b0f1_94d48ee7597frow15_col0\" class=\"data row15 col0\" >-0.056146</td>\n",
       "            </tr>\n",
       "            <tr>\n",
       "                        <th id=\"T_f94199b8_62f2_11eb_b0f1_94d48ee7597flevel0_row16\" class=\"row_heading level0 row16\" >YearBuilt</th>\n",
       "                        <td id=\"T_f94199b8_62f2_11eb_b0f1_94d48ee7597frow16_col0\" class=\"data row16 col0\" >-0.078223</td>\n",
       "            </tr>\n",
       "            <tr>\n",
       "                        <th id=\"T_f94199b8_62f2_11eb_b0f1_94d48ee7597flevel0_row17\" class=\"row_heading level0 row17\" >NumBldgs</th>\n",
       "                        <td id=\"T_f94199b8_62f2_11eb_b0f1_94d48ee7597frow17_col0\" class=\"data row17 col0\" >-0.108931</td>\n",
       "            </tr>\n",
       "            <tr>\n",
       "                        <th id=\"T_f94199b8_62f2_11eb_b0f1_94d48ee7597flevel0_row18\" class=\"row_heading level0 row18\" >ZipCode</th>\n",
       "                        <td id=\"T_f94199b8_62f2_11eb_b0f1_94d48ee7597frow18_col0\" class=\"data row18 col0\" >-0.190264</td>\n",
       "            </tr>\n",
       "            <tr>\n",
       "                        <th id=\"T_f94199b8_62f2_11eb_b0f1_94d48ee7597flevel0_row19\" class=\"row_heading level0 row19\" >XCoord</th>\n",
       "                        <td id=\"T_f94199b8_62f2_11eb_b0f1_94d48ee7597frow19_col0\" class=\"data row19 col0\" >-0.276685</td>\n",
       "            </tr>\n",
       "    </tbody></table>"
      ],
      "text/plain": [
       "<pandas.io.formats.style.Styler at 0x1e0ff985b00>"
      ]
     },
     "metadata": {},
     "output_type": "display_data"
    }
   ],
   "source": [
    "corr_sp = df_merged.corr(method = 'spearman')['Complaints #'].sort_values(ascending = False)\n",
    "\n",
    "display(corr_sp.to_frame().style.background_gradient(cmap = 'Reds', axis = 0))"
   ]
  },
  {
   "cell_type": "markdown",
   "metadata": {},
   "source": [
    "The total number of 'HEAT/HOT WATER' complaints has a **moderate positive correlation** (absolute correlation coefficient between 0.40 - 0.59) with **6 features**: 'ResArea', 'NumFloors', 'BuiltFAR', 'BldgArea', 'BldgDepth', 'LotArea'. It's not a surprise that these features are related to spatial dimensions.\n",
    "\n",
    "All other features show a weak correlation (0.2 - 0.39) or a very week correlation (0-0.19). \n",
    "\n",
    "We can confirm that our results are statistically significant by calculating the p-value for each feature."
   ]
  },
  {
   "cell_type": "code",
   "execution_count": 13,
   "metadata": {
    "ExecuteTime": {
     "end_time": "2021-01-30T12:02:07.017573Z",
     "start_time": "2021-01-30T12:02:06.844513Z"
    }
   },
   "outputs": [
    {
     "name": "stderr",
     "output_type": "stream",
     "text": [
      "C:\\Users\\ko40\\AppData\\Local\\Continuum\\anaconda3\\lib\\site-packages\\scipy\\stats\\stats.py:248: RuntimeWarning: The input array could not be properly checked for nan values. nan values will be ignored.\n",
      "  \"values. nan values will be ignored.\", RuntimeWarning)\n"
     ]
    },
    {
     "data": {
      "text/html": [
       "<div>\n",
       "<style scoped>\n",
       "    .dataframe tbody tr th:only-of-type {\n",
       "        vertical-align: middle;\n",
       "    }\n",
       "\n",
       "    .dataframe tbody tr th {\n",
       "        vertical-align: top;\n",
       "    }\n",
       "\n",
       "    .dataframe thead th {\n",
       "        text-align: right;\n",
       "    }\n",
       "</style>\n",
       "<table border=\"1\" class=\"dataframe\">\n",
       "  <thead>\n",
       "    <tr style=\"text-align: right;\">\n",
       "      <th></th>\n",
       "      <th>Correlation</th>\n",
       "      <th>P-value</th>\n",
       "    </tr>\n",
       "  </thead>\n",
       "  <tbody>\n",
       "    <tr>\n",
       "      <th>ResArea</th>\n",
       "      <td>0.608828</td>\n",
       "      <td>0</td>\n",
       "    </tr>\n",
       "    <tr>\n",
       "      <th>NumFloors</th>\n",
       "      <td>0.574655</td>\n",
       "      <td>0</td>\n",
       "    </tr>\n",
       "    <tr>\n",
       "      <th>BuiltFAR</th>\n",
       "      <td>0.57375</td>\n",
       "      <td>0</td>\n",
       "    </tr>\n",
       "    <tr>\n",
       "      <th>BldgArea</th>\n",
       "      <td>0.56601</td>\n",
       "      <td>0</td>\n",
       "    </tr>\n",
       "    <tr>\n",
       "      <th>BldgDepth</th>\n",
       "      <td>0.487732</td>\n",
       "      <td>0</td>\n",
       "    </tr>\n",
       "    <tr>\n",
       "      <th>LotArea</th>\n",
       "      <td>0.431083</td>\n",
       "      <td>0</td>\n",
       "    </tr>\n",
       "    <tr>\n",
       "      <th>ResidFAR</th>\n",
       "      <td>0.334257</td>\n",
       "      <td>0</td>\n",
       "    </tr>\n",
       "    <tr>\n",
       "      <th>FacilFAR</th>\n",
       "      <td>0.311694</td>\n",
       "      <td>0</td>\n",
       "    </tr>\n",
       "    <tr>\n",
       "      <th>YearAlter1</th>\n",
       "      <td>0.171683</td>\n",
       "      <td>8.59105e-115</td>\n",
       "    </tr>\n",
       "    <tr>\n",
       "      <th>RetailArea</th>\n",
       "      <td>0.131621</td>\n",
       "      <td>7.61611e-68</td>\n",
       "    </tr>\n",
       "    <tr>\n",
       "      <th>LotDepth</th>\n",
       "      <td>0.116028</td>\n",
       "      <td>5.00103e-53</td>\n",
       "    </tr>\n",
       "    <tr>\n",
       "      <th>OfficeArea</th>\n",
       "      <td>0.0178045</td>\n",
       "      <td>0.0190642</td>\n",
       "    </tr>\n",
       "    <tr>\n",
       "      <th>CommFAR</th>\n",
       "      <td>-0.0195821</td>\n",
       "      <td>0.00992692</td>\n",
       "    </tr>\n",
       "    <tr>\n",
       "      <th>Address</th>\n",
       "      <td>-0.0412632</td>\n",
       "      <td>5.4828e-08</td>\n",
       "    </tr>\n",
       "    <tr>\n",
       "      <th>Lot</th>\n",
       "      <td>-0.0561462</td>\n",
       "      <td>1.38397e-13</td>\n",
       "    </tr>\n",
       "    <tr>\n",
       "      <th>YearBuilt</th>\n",
       "      <td>-0.078223</td>\n",
       "      <td>6.06648e-25</td>\n",
       "    </tr>\n",
       "    <tr>\n",
       "      <th>NumBldgs</th>\n",
       "      <td>-0.108931</td>\n",
       "      <td>6.49328e-47</td>\n",
       "    </tr>\n",
       "    <tr>\n",
       "      <th>ZipCode</th>\n",
       "      <td>-0.190264</td>\n",
       "      <td>5.18861e-141</td>\n",
       "    </tr>\n",
       "    <tr>\n",
       "      <th>XCoord</th>\n",
       "      <td>NaN</td>\n",
       "      <td>NaN</td>\n",
       "    </tr>\n",
       "    <tr>\n",
       "      <th>YCoord</th>\n",
       "      <td>NaN</td>\n",
       "      <td>NaN</td>\n",
       "    </tr>\n",
       "  </tbody>\n",
       "</table>\n",
       "</div>"
      ],
      "text/plain": [
       "           Correlation       P-value\n",
       "ResArea       0.608828             0\n",
       "NumFloors     0.574655             0\n",
       "BuiltFAR       0.57375             0\n",
       "BldgArea       0.56601             0\n",
       "BldgDepth     0.487732             0\n",
       "LotArea       0.431083             0\n",
       "ResidFAR      0.334257             0\n",
       "FacilFAR      0.311694             0\n",
       "YearAlter1    0.171683  8.59105e-115\n",
       "RetailArea    0.131621   7.61611e-68\n",
       "LotDepth      0.116028   5.00103e-53\n",
       "OfficeArea   0.0178045     0.0190642\n",
       "CommFAR     -0.0195821    0.00992692\n",
       "Address     -0.0412632    5.4828e-08\n",
       "Lot         -0.0561462   1.38397e-13\n",
       "YearBuilt    -0.078223   6.06648e-25\n",
       "NumBldgs     -0.108931   6.49328e-47\n",
       "ZipCode      -0.190264  5.18861e-141\n",
       "XCoord             NaN           NaN\n",
       "YCoord             NaN           NaN"
      ]
     },
     "execution_count": 13,
     "metadata": {},
     "output_type": "execute_result"
    }
   ],
   "source": [
    "# delete rows with NaN values \n",
    "df_merged_ = df_merged.dropna(subset = ['Complaints #'], axis = 0)\n",
    "\n",
    "# create a new dataframe for storing the results\n",
    "df_merged_stats = pd.DataFrame(columns = df_merged_.columns[1:], \n",
    "                               index = ['Correlation', 'P-value'])\n",
    "\n",
    "# iterate over all columns, calculate Spearman's coefficient and the p-value\n",
    "for i in df_merged_stats.columns:\n",
    "    spearman, p_value = stats.spearmanr(df_merged_['Complaints #'], df_merged_[i])\n",
    "    df_merged_stats[i]['Correlation'] = spearman\n",
    "    df_merged_stats[i]['P-value'] = p_value\n",
    "    \n",
    "df_merged_stats.T.sort_values(by = 'Correlation', ascending = False)"
   ]
  },
  {
   "cell_type": "markdown",
   "metadata": {},
   "source": [
    "For the sake of completeness, we can check for correlations between every possible pair of features by plotting a heatmap:"
   ]
  },
  {
   "cell_type": "code",
   "execution_count": 14,
   "metadata": {
    "ExecuteTime": {
     "end_time": "2021-01-30T12:02:09.269360Z",
     "start_time": "2021-01-30T12:02:07.020562Z"
    }
   },
   "outputs": [
    {
     "data": {
      "image/png": "[encoded data removed]",
      "text/plain": [
       "<Figure size 720x576 with 2 Axes>"
      ]
     },
     "metadata": {
      "image/png": {
       "height": 524,
       "width": 616
      },
      "needs_background": "light"
     },
     "output_type": "display_data"
    }
   ],
   "source": [
    "corr_table = df_merged.corr(method = 'spearman')\n",
    "\n",
    "plt.figure(figsize = (10, 8))\n",
    "\n",
    "mask = np.triu(np.ones_like(corr_table, dtype = np.bool))\n",
    "ax = sns.heatmap(corr_table, mask = mask, cmap = 'Reds')"
   ]
  },
  {
   "cell_type": "markdown",
   "metadata": {},
   "source": [
    "<br>\n",
    "\n",
    "# Conclusions\n",
    "\n",
    "- Using **Spearman's correlation coefficient**, we showed that the total number of 'HEAT/HOT WATER' complaints displays a **moderate positive correlation** with **six features** ('ResArea', 'NumFloors', 'BuiltFAR', 'BldgArea', 'BldgDepth', and 'LotArea').\n",
    "- Only **two** of these features ('NumFloors' and 'BldgDepth') show a **weak linear correlation** measured by **Pearson’s correlation coefficient**. The remaining four exhibit a very weak linear correlation."
   ]
  },
  {
   "cell_type": "markdown",
   "metadata": {},
   "source": [
    "<br>\n",
    "\n",
    "---\n",
    "\n",
    "# Quiz\n",
    "\n",
    "## Question 1\n",
    "\n",
    "Can you determine the age of a building from the PLUTO dataset?\n",
    "\n",
    "Answer: Yes, a building's age can be determined using the 'YearBuilt' column of PLUTO dataset."
   ]
  },
  {
   "cell_type": "code",
   "execution_count": 15,
   "metadata": {
    "ExecuteTime": {
     "end_time": "2021-01-30T12:02:09.309257Z",
     "start_time": "2021-01-30T12:02:09.273350Z"
    }
   },
   "outputs": [
    {
     "data": {
      "text/html": [
       "<div>\n",
       "<style scoped>\n",
       "    .dataframe tbody tr th:only-of-type {\n",
       "        vertical-align: middle;\n",
       "    }\n",
       "\n",
       "    .dataframe tbody tr th {\n",
       "        vertical-align: top;\n",
       "    }\n",
       "\n",
       "    .dataframe thead th {\n",
       "        text-align: right;\n",
       "    }\n",
       "</style>\n",
       "<table border=\"1\" class=\"dataframe\">\n",
       "  <thead>\n",
       "    <tr style=\"text-align: right;\">\n",
       "      <th></th>\n",
       "      <th>Address</th>\n",
       "      <th>YearBuilt</th>\n",
       "      <th>Age</th>\n",
       "    </tr>\n",
       "  </thead>\n",
       "  <tbody>\n",
       "    <tr>\n",
       "      <th>80640</th>\n",
       "      <td>249 KEARNEY AVENUE</td>\n",
       "      <td>1960</td>\n",
       "      <td>61</td>\n",
       "    </tr>\n",
       "    <tr>\n",
       "      <th>24933</th>\n",
       "      <td>200 EAST 205 STREET</td>\n",
       "      <td>1941</td>\n",
       "      <td>80</td>\n",
       "    </tr>\n",
       "    <tr>\n",
       "      <th>76985</th>\n",
       "      <td>3161 RAWLINS AVENUE</td>\n",
       "      <td>1925</td>\n",
       "      <td>96</td>\n",
       "    </tr>\n",
       "    <tr>\n",
       "      <th>78311</th>\n",
       "      <td>210 OUTLOOK AVENUE</td>\n",
       "      <td>2002</td>\n",
       "      <td>19</td>\n",
       "    </tr>\n",
       "    <tr>\n",
       "      <th>58779</th>\n",
       "      <td>1017 EAST 215 STREET</td>\n",
       "      <td>1910</td>\n",
       "      <td>111</td>\n",
       "    </tr>\n",
       "  </tbody>\n",
       "</table>\n",
       "</div>"
      ],
      "text/plain": [
       "                    Address  YearBuilt  Age\n",
       "80640    249 KEARNEY AVENUE       1960   61\n",
       "24933   200 EAST 205 STREET       1941   80\n",
       "76985   3161 RAWLINS AVENUE       1925   96\n",
       "78311    210 OUTLOOK AVENUE       2002   19\n",
       "58779  1017 EAST 215 STREET       1910  111"
      ]
     },
     "execution_count": 15,
     "metadata": {},
     "output_type": "execute_result"
    }
   ],
   "source": [
    "df_merged['Age'] = 2021 - df_merged['YearBuilt']\n",
    "df_merged[['Address', 'YearBuilt', 'Age']].sample(5)"
   ]
  },
  {
   "cell_type": "markdown",
   "metadata": {},
   "source": [
    "## Question 2\n",
    "\n",
    "Which of the following methodologies can you use to identify whether any relationship exists between the building characteristics and the number of complaints?\n",
    "\n",
    "- Pearson Correlation\n",
    "- Feature Importance function from Random Forest Algorithm\n",
    "- Feature Importance function from XGBoost Algorithm\n",
    "- None of the 3 methods\n",
    "- All of the 3 methods\n",
    "\n",
    "Answer: All of the 3 methods. - **Note**: We will analyse feature importance in the next notebook."
   ]
  },
  {
   "cell_type": "markdown",
   "metadata": {},
   "source": [
    "## Question 3\n",
    "\n",
    "The cardinality of the data in PLUTO dataset is at the same level as the complaint dataset?\n",
    "\n",
    "Answer: False. The 311 Dataset has multiple entries for the same address. On the other hand, the PLUTO dataset has one entry for each address."
   ]
  }
 ],
 "metadata": {
  "hide_input": false,
  "kernelspec": {
   "display_name": "Python 3",
   "language": "python",
   "name": "python3"
  },
  "language_info": {
   "codemirror_mode": {
    "name": "ipython",
    "version": 3
   },
   "file_extension": ".py",
   "mimetype": "text/x-python",
   "name": "python",
   "nbconvert_exporter": "python",
   "pygments_lexer": "ipython3",
   "version": "3.6.8"
  },
  "varInspector": {
   "cols": {
    "lenName": 16,
    "lenType": 16,
    "lenVar": 40
   },
   "kernels_config": {
    "python": {
     "delete_cmd_postfix": "",
     "delete_cmd_prefix": "del ",
     "library": "var_list.py",
     "varRefreshCmd": "print(var_dic_list())"
    },
    "r": {
     "delete_cmd_postfix": ") ",
     "delete_cmd_prefix": "rm(",
     "library": "var_list.r",
     "varRefreshCmd": "cat(var_dic_list()) "
    }
   },
   "types_to_exclude": [
    "module",
    "function",
    "builtin_function_or_method",
    "instance",
    "_Feature"
   ],
   "window_display": false
  }
 },
 "nbformat": 4,
 "nbformat_minor": 2
}
